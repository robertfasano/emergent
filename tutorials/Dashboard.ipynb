{
 "cells": [
  {
   "cell_type": "markdown",
   "metadata": {},
   "source": [
    "# Introduction\n",
    "The Dashboard is a graphical user interface which can control the EMERGENT backend from any networked computer. Let's see how it works. First, initialize the test network and run the master in the \"Network construction\" section of the \"Getting started\" tutorial. Then, launch the Dashboard:"
   ]
  },
  {
   "cell_type": "code",
   "execution_count": 1,
   "metadata": {},
   "outputs": [],
   "source": [
    "%gui qt5"
   ]
  },
  {
   "cell_type": "code",
   "execution_count": 2,
   "metadata": {},
   "outputs": [
    {
     "name": "stdout",
     "output_type": "stream",
     "text": [
      "C:\\emergent\\emergent\n",
      "2019-03-04T13:00:24.353464 dashboard: Serving at localhost::27191.\n",
      "2019-03-04T13:00:24.522465 dashboard:"
     ]
    },
    {
     "name": "stderr",
     "output_type": "stream",
     "text": [
      "INFO:root:New listener at localhost on port 27191.\n"
     ]
    },
    {
     "name": "stdout",
     "output_type": "stream",
     "text": [
      " Received: {'op': 'update', 'params': 1, 'timestamp': '2019-03-04T13:00:24.503465'}\n",
      "2019-03-04T13:00:24.558463 dashboard: Received message: {'op': 'connect', 'params': {'addr': 'localhost', 'port': 27190}}\n",
      "2019-03-04T13:00:24.561464 dashboard:2019-03-04T13:00:24.561464 Sending: dashboard: Sending: {'op': 'update', 'params': 1}\n",
      " {'op': 'get', 'target': 'state', 'timestamp': '2019-03-04T13:00:24.560464'}\n",
      "2019-03-04T13:00:24.564465 dashboard: Received: {'op': 'get', 'value': {'hub': State([('thing', {'X': 0, 'Y': 0})])}, 'timestamp': '2019-03-04T13:00:24.564465'}\n",
      "2019-03-04T13:00:24.818463 dashboard: Sending: {'op': 'get', 'target': 'settings', 'timestamp': '2019-03-04T13:00:24.818463'}\n",
      "2019-03-04T13:00:24.819462 dashboard: Received: {'op': 'get', 'value': {'hub': {'thing': {'X': {'min': 0, 'max': 1}, 'Y': {'min': 0, 'max': 1}}}}, 'timestamp': '2019-03-04T13:00:24.819462'}\n",
      "2019-03-04T13:00:38.929422 dashboard: Sending: {'op': 'set', 'target': 'state', 'value': {'hub': {'thing': {'X': 1.0}}}, 'timestamp': '2019-03-04T13:00:38.929422'}\n",
      "2019-03-04T13:00:38.931423 dashboard: Received: {'op': 'set', 'target': 'state', 'value': {'hub': State([('thing', {'X': 1.0, 'Y': 0})])}, 'timestamp': '2019-03-04T13:00:38.930422'}\n",
      "2019-03-04T13:02:39.313545 dashboard: Sending: {'op': 'set', 'target': 'state', 'value': {'hub': {'thing': {'X': 2.0}}}, 'timestamp': '2019-03-04T13:02:39.313545'}\n",
      "2019-03-04T13:02:39.314545 dashboard: Received: {'op': 'set', 'target': 'state', 'value': {'hub': State([('thing', {'X': 2.0, 'Y': 0})])}, 'timestamp': '2019-03-04T13:02:39.314545'}\n"
     ]
    }
   ],
   "source": [
    "%cd /emergent/emergent\n",
    "%run dashboard/main"
   ]
  },
  {
   "cell_type": "markdown",
   "metadata": {},
   "source": [
    "Communication between the master and the dashboard is done through the DashAPI class, which we can access through the P2PNode attached to the Dashboard:"
   ]
  },
  {
   "cell_type": "code",
   "execution_count": 6,
   "metadata": {},
   "outputs": [],
   "source": [
    "api = dash.p2p.api"
   ]
  },
  {
   "cell_type": "markdown",
   "metadata": {},
   "source": [
    "The API implements get() and set() methods which can currently be applied to the network state and input ranges. For example, let's retrieve the state from the network tree:"
   ]
  },
  {
   "cell_type": "code",
   "execution_count": 8,
   "metadata": {},
   "outputs": [
    {
     "name": "stdout",
     "output_type": "stream",
     "text": [
      "State([('hub', {'thing': {'X': '2', 'Y': '0.00'}})])\n"
     ]
    }
   ],
   "source": [
    "state = api.get('state')\n",
    "print(state)"
   ]
  },
  {
   "cell_type": "markdown",
   "metadata": {},
   "source": [
    "We can also set the state on the network tree:"
   ]
  },
  {
   "cell_type": "code",
   "execution_count": 9,
   "metadata": {},
   "outputs": [
    {
     "name": "stdout",
     "output_type": "stream",
     "text": [
      "2019-03-04T13:05:59.336412 dashboard: Sending: {'op': 'get', 'target': 'settings', 'timestamp': '2019-03-04T13:05:59.335412'}\n",
      "2019-03-04T13:05:59.337412 dashboard: Received: {'op': 'get', 'value': {'hub': {'thing': {'X': {'min': 0, 'max': 1}, 'Y': {'min': 0, 'max': 1}}}}, 'timestamp': '2019-03-04T13:05:59.336412'}\n",
      "State([('hub', {'thing': {'X': '1.05', 'Y': '0.00'}})])\n"
     ]
    }
   ],
   "source": [
    "api.set('state', {'hub': {'thing': {'X': 1.05}}})\n",
    "new_state = api.get('state')\n",
    "print(new_state)"
   ]
  },
  {
   "cell_type": "markdown",
   "metadata": {},
   "source": [
    "You should see that the value displayed in the network tree has changed. Be careful! The API changes the Dashboard only, not the master! In fact, there's a separate class called API for accessing the master; these two classes work together to keep the Dashboard and the master in sync.\n",
    "\n",
    "For example, let's look at what happens when you update an input in the network tree:\n",
    "1. The NodeTree.update_editor() method retrieves the state and calls Dashboard.p2p.set('state', state)\n",
    "2. The P2P node attached to the master retrieves this message and calls the API.set() method.\n",
    "3. The API passes the actuate command on to all objects referenced by the state.\n",
    "4. The API checks the new state with API.get('state') and returns the result to the Dashboard P2P node.\n",
    "\n",
    "Conversely, let's look at what happens when the master initiates a state change:\n",
    "1. The Hub.actuate() method distributes state changes to all connected Things.\n",
    "2. Each Thing, after updating its state, calls network.p2p.send({'op': 'set', 'target': 'state', 'value': state}).\n",
    "3. The Dashboard receives this message and calls the API.set() method to update the user interface.\n",
    "\n",
    "To summarize, when a local object is changed, it uses the P2PNode.set() method to send a command over the network; then, the remote P2PNode calls the API.set() method to implement the change."
   ]
  },
  {
   "cell_type": "code",
   "execution_count": null,
   "metadata": {},
   "outputs": [],
   "source": []
  }
 ],
 "metadata": {
  "kernelspec": {
   "display_name": "Python 3",
   "language": "python",
   "name": "python3"
  },
  "language_info": {
   "codemirror_mode": {
    "name": "ipython",
    "version": 3
   },
   "file_extension": ".py",
   "mimetype": "text/x-python",
   "name": "python",
   "nbconvert_exporter": "python",
   "pygments_lexer": "ipython3",
   "version": "3.7.0"
  }
 },
 "nbformat": 4,
 "nbformat_minor": 2
}
