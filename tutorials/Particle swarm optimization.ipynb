{
 "cells": [
  {
   "cell_type": "markdown",
   "metadata": {},
   "source": [
    "# Particle swarm optimization"
   ]
  },
  {
   "cell_type": "code",
   "execution_count": 64,
   "metadata": {},
   "outputs": [
    {
     "name": "stdout",
     "output_type": "stream",
     "text": [
      "[0.50792285 0.48477957]\n"
     ]
    }
   ],
   "source": [
    "from emergent.utilities.containers import Parameter\n",
    "import numpy as np\n",
    "import itertools\n",
    "\n",
    "class ParticleSwarm():\n",
    "    def __init__(self, params={}):\n",
    "        self.name = 'ParticleSwarm'\n",
    "        self.params = {}\n",
    "        self.params['Steps'] = Parameter(name= 'Steps', value=10)\n",
    "        self.params['Particles'] = Parameter(name= 'Particles', value=10)\n",
    "        self.params['Inertia'] = Parameter(name= 'Inertia', value=1)\n",
    "        self.params['Cognitive acceleration'] = Parameter(name= 'Cognitive acceleration', value=0.1)\n",
    "        self.params['Social acceleration'] = Parameter(name= 'Social acceleration', value=0.1)\n",
    "\n",
    "        for p in params:\n",
    "            self.params[p].value = params[p]\n",
    "\n",
    "    def run(self, points, costs, bounds=None):\n",
    "        ''' Differential evolution algorithm from scipy.optimize. '''\n",
    "        if bounds is None:\n",
    "            bounds = np.array(list(itertools.repeat([0, 1], points.shape[1])))\n",
    "\n",
    "        \n",
    "\n",
    "\n",
    "        return points, costs\n",
    "    \n",
    "def f(X):\n",
    "    result = 1\n",
    "    for x in X:\n",
    "        result *= np.exp(-(x-0.5)**2)\n",
    "    return -result\n",
    "\n",
    "particles = 10\n",
    "v0 = 1    # initial velocity scaling factor\n",
    "steps = 100\n",
    "omega = 1 # step velocity scaling factor\n",
    "phi_p = 1 # individual position update factor\n",
    "phi_g = 1 # swarm position update factor\n",
    "\n",
    "dim = points.shape[1]\n",
    "\n",
    "points = np.empty((0,2))\n",
    "bounds = np.array(list(itertools.repeat((0, 1), dim)))\n",
    "pos = np.empty((particles, dim))\n",
    "vel = np.empty((particles, dim))\n",
    "swarm_best = [0,0]\n",
    "\n",
    "for i in range(points.shape[1]):\n",
    "    pos[:,i] =  np.random.uniform(bounds[i][0], bounds[i][1], size=particles)\n",
    "    v = bounds[i][1] - bounds[i][0]\n",
    "    vel[:,i] =  np.random.uniform(-v*v0, v*v0, size=particles)\n",
    "\n",
    "best = pos.copy()\n",
    "for i in range(particles):\n",
    "    if f(pos[i,:]) < f(swarm_best):\n",
    "        swarm_best = pos[i,:]\n",
    "        \n",
    "for s in range(steps):\n",
    "    for i in range(particles):\n",
    "        for d in range(dim):\n",
    "            rp, rg = np.random.uniform(size=2)\n",
    "            vel[i, d] = omega*vel[i, d] + phi_p*rp*(best[i,d]-pos[i,d]) + phi_g*rg*(swarm_best[d]-pos[i,d])\n",
    "        pos[i, :] += vel[i, :]\n",
    "        \n",
    "        if f(pos[i,:]) < f(best[i,:]):\n",
    "            best[i,:] = pos[i,:]\n",
    "            if f(best[i,:]) < f(swarm_best):\n",
    "                swarm_best = best[i, :]\n",
    "                \n",
    "print(swarm_best)"
   ]
  },
  {
   "cell_type": "code",
   "execution_count": 33,
   "metadata": {},
   "outputs": [
    {
     "data": {
      "text/plain": [
       "array([-0.12070981,  0.51903695])"
      ]
     },
     "execution_count": 33,
     "metadata": {},
     "output_type": "execute_result"
    }
   ],
   "source": [
    "vel[0,:]"
   ]
  },
  {
   "cell_type": "code",
   "execution_count": null,
   "metadata": {},
   "outputs": [],
   "source": []
  }
 ],
 "metadata": {
  "kernelspec": {
   "display_name": "Python 3",
   "language": "python",
   "name": "python3"
  },
  "language_info": {
   "codemirror_mode": {
    "name": "ipython",
    "version": 3
   },
   "file_extension": ".py",
   "mimetype": "text/x-python",
   "name": "python",
   "nbconvert_exporter": "python",
   "pygments_lexer": "ipython3",
   "version": "3.6.6"
  }
 },
 "nbformat": 4,
 "nbformat_minor": 2
}
