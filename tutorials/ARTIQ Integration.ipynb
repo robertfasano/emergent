{
 "cells": [
  {
   "cell_type": "code",
   "execution_count": null,
   "metadata": {},
   "outputs": [],
   "source": [
    "%run \"./Getting started.ipynb\""
   ]
  },
  {
   "cell_type": "code",
   "execution_count": null,
   "metadata": {},
   "outputs": [],
   "source": [
    "@experiment\n",
    "def artiq(self, state, params = {}):\n",
    "    self.actuate(state)\n",
    "    submit = {'pid': str(uuid.uuid1()), 'sequence': self.children['sequencer'].steps}\n",
    "    submit['adc'] = [{'start': 10e-3, 'end': 20e-3, 'step': 100e-6, 'channels': [0]},\n",
    "                     {'start': 40e-3, 'end': 60e-3, 'step': 100e-6, 'channels': [0, 1]}]\n",
    "    requests.post('http://localhost:5000/artiq/run', json=submit)\n",
    "    self.network.artiq_client.emit('submit')\n",
    "\n",
    "    while True:\n",
    "        response = requests.get('http://localhost:5000/artiq/run').json()\n",
    "        if 'result' in response:\n",
    "            break\n",
    "    print('Received from ARTIQ:', response['result'])\n",
    "\n",
    "    return 0\n",
    "\n",
    "hub = network.hubs['hub']\n",
    "hub.artiq = artiq"
   ]
  }
 ],
 "metadata": {
  "kernelspec": {
   "display_name": "Python 3",
   "language": "python",
   "name": "python3"
  },
  "language_info": {
   "codemirror_mode": {
    "name": "ipython",
    "version": 3
   },
   "file_extension": ".py",
   "mimetype": "text/x-python",
   "name": "python",
   "nbconvert_exporter": "python",
   "pygments_lexer": "ipython3",
   "version": "3.7.0"
  }
 },
 "nbformat": 4,
 "nbformat_minor": 2
}
