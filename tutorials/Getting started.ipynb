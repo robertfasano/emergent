{
 "cells": [
  {
   "cell_type": "markdown",
   "metadata": {},
   "source": [
    "# Network construction"
   ]
  },
  {
   "cell_type": "markdown",
   "metadata": {},
   "source": [
    "In this tutorial, we will see how to create and run a new EMERGENT network. We will also run this notebook from other tutorials to initialize a fresh network to play with. Before starting this tutorial, you should run the \"Building blocks\" tutorial to learn the purpose of the different nodes we construct here. First, let's create an empty network called \"test\":"
   ]
  },
  {
   "cell_type": "code",
   "execution_count": null,
   "metadata": {},
   "outputs": [],
   "source": [
    "import os\n",
    "path = '/emergent/emergent'\n",
    "if os.name == 'posix':\n",
    "    path = '~'+ path\n",
    "%cd $path\n",
    "%run utilities/new test"
   ]
  },
  {
   "cell_type": "markdown",
   "metadata": {},
   "source": [
    "You should see a new folder called test in the emergent/networks/ directory. Next, we're going to define the core building blocks of an EMERGENT network: a Thing, a Hub, and a network declaration file. Each of these is typically its own .py file; here, we'll define them within the notebook and save them to files as we go using IPython's magic %%writefile command.\n",
    "\n",
    "First, let's define a Thing: a driver\n",
    "for some device in our experiment. Although Things are just standard Python classes which can contain any methods\n",
    "you want, they should always have methods called \\_actuate() and \\_connect().\n",
    "\n",
    "<div class=\"alert alert-block alert-info\">\n",
    "<b>_actuate():</b> takes a state dictionary as an argument. Overload this method according to the manufacturer API to \n",
    "send the state specified by the dictionary to the device to do something useful in the lab.\n",
    "<br>\n",
    "<b>_connect():</b> establishes a connection with the device and returns 1 if successful. Overload this method with \n",
    "the specific connection protocol required by the device, e.g. sending a start packet over TCP/IP.\n",
    "</div>\n",
    "\n",
    "\n",
    "Things also have standardized arguments which should be passed into the super().__init__() method as well:\n",
    "<div class=\"alert alert-block alert-info\">\n",
    "<b>name:</b> the name which will be displayed in the experimental state dictionary and the GUI.\n",
    "<br>\n",
    "<b>params:</b> a dictionary containing any parameters you might want to pass to the device, like a serial number or \n",
    "analog input range.\n",
    "<br>\n",
    "<b>parent:</b> the Hub to which this Thing will be attached.\n",
    "</div>\n",
    "\n",
    "<div class=\"alert alert-block alert-warning\">\n",
    "If you plan on running EMERGENT across multiple computers, make sure to return early from the __init__ method\n",
    "if Thing.local is False; this prevents nodes from being initialized on the wrong computer.\n",
    "</div>"
   ]
  },
  {
   "cell_type": "code",
   "execution_count": null,
   "metadata": {},
   "outputs": [],
   "source": [
    "%%writefile networks/test/things/test_thing.py \n",
    "\n",
    "from emergent.modules import Thing\n",
    "\n",
    "class TestThing(Thing):\n",
    "    ''' Thing driver for the virtual network in the 'basic' example. '''\n",
    "    def __init__(self, name, params = {}, parent = None):\n",
    "        ''' Register with the network and create two Input nodes, 'X' and 'Y'. '''\n",
    "        super().__init__(name, parent, params = params)\n",
    "        if not self.local:\n",
    "            return\n",
    "\n",
    "        for input_name in ['X', 'Y']:\n",
    "            self.add_input(input_name)\n",
    "\n",
    "    def _actuate(self, state):\n",
    "        ''' Usually this method would change a physical state, but for our\n",
    "            virtual network we only print the argument (note: the virtual state\n",
    "            is updated within the public calling method Thing.actuate()).'''\n",
    "        print('Actuating to', state)\n",
    "        return\n",
    "\n",
    "    def _connect(self):\n",
    "        return 1"
   ]
  },
  {
   "cell_type": "markdown",
   "metadata": {},
   "source": [
    "Now we will construct a Hub: a virtual construct which commands multiple things and measures some attached signal. \n",
    "The __init__ method should take the following arguments and pass them into the super().__init__ method:\n",
    "<div class=\"alert alert-block alert-info\">\n",
    "<b>name:</b> the name which will be displayed in the experimental state dictionary and the GUI.\n",
    "<br>\n",
    "<b>params:</b> a dictionary containing any parameters you might want to pass to the hub.\n",
    "<br>\n",
    "<b>network:</b> the local cluster of Hubs to associate this instance with.\n",
    "<br>\n",
    "<b>addr:</b> the IP address of the PC where you want this Hub to run. The Hub will only be constructed if the \n",
    "PC has a network card matching this address. This allows Hubs across multiple decentralized PCs to be declared in\n",
    "a single network.py file and selectively constructed depending on which PC is running the network.initialize() method.\n",
    "</div>\n",
    "\n",
    "In EMERGENT, experiments are written as methods of Hub classes with a standard call signature:\n",
    "<div class=\"alert alert-block alert-info\">\n",
    "<b>state:</b> a dictionary specifying the state for which we want to run the experiment. For example, if we want\n",
    "to measure a signal with a Thing named 'thing' set to coordinates X=1 and Y=2, we would pass {'thing': {'X':1, 'Y':2}}.\n",
    "<br>\n",
    "<b>params:</b> a dictionary containing any parameters you might want to pass to the experiment, e.g. an averaging\n",
    "time.\n",
    "</div>\n",
    "\n",
    "The method is tagged with the @experiment decorator, which tells EMERGENT to treat it differently than a normal method: all tagged methods appear in spin-boxes in the GUI."
   ]
  },
  {
   "cell_type": "code",
   "execution_count": null,
   "metadata": {},
   "outputs": [],
   "source": [
    "%%writefile networks/test/hubs/test_hub.py \n",
    "import numpy as np\n",
    "import time\n",
    "from emergent.modules import Hub\n",
    "from emergent.utilities.decorators import experiment, error\n",
    "\n",
    "class TestHub(Hub):\n",
    "    def __init__(self, name, params = {}, addr=None, network=None):\n",
    "        super().__init__(name, addr=addr, network = network, params = params)\n",
    "        self.options['Hello'] = lambda: print('Hello world!')\n",
    "        \n",
    "    def hello(self, name='world'):\n",
    "        print('Hello', name)\n",
    "        \n",
    "    @experiment\n",
    "    def gaussian(self, state, params = {'sigma_x': 0.3, 'sigma_y': 0.8, 'x0': 0.3, 'y0': 0.6, 'noise':0, 'delay': 0.5}):\n",
    "        self.actuate(state)\n",
    "        x=self.state['thing']['X']\n",
    "        y=self.state['thing']['Y']\n",
    "        x0 = params['x0']\n",
    "        y0 = params['y0']\n",
    "        sigma_x = params['sigma_x']\n",
    "        sigma_y = params['sigma_y']\n",
    "        power =  np.exp(-(x-x0)**2/sigma_x**2)*np.exp(-(y-y0)**2/sigma_y**2) + np.random.normal(0, params['noise'])\n",
    "\n",
    "        return -power\n",
    "    \n",
    "    @error \n",
    "    def error_function(self, state, params={'setpoint': 1}):\n",
    "        self.actuate(state)\n",
    "        return self.state['thing']['X'] - params['setpoint']\n",
    "    "
   ]
  },
  {
   "cell_type": "markdown",
   "metadata": {},
   "source": [
    "The last step is to declare our objects in a network.py file, which should contain only a method called initialize() which is structured as follows:"
   ]
  },
  {
   "cell_type": "code",
   "execution_count": null,
   "metadata": {},
   "outputs": [],
   "source": [
    "%%writefile networks/test/network.py\n",
    "\n",
    "from emergent.networks.test.hubs.test_hub import TestHub\n",
    "from emergent.networks.test.things.test_thing import TestThing\n",
    "from emergent.modules.sequencing import Sequencer\n",
    "from emergent.modules.switch import Switch\n",
    "\n",
    "def initialize(network, params = {}):\n",
    "    network.add_params(params)          # add the passed params to the network\n",
    "\n",
    "    hub = TestHub(name='hub', network=network, addr='127.0.0.1')\n",
    "    thing = TestThing('thing', params={}, parent=hub)\n",
    "    \n",
    "    hub.switches['A'] = Switch('A', {}, invert = False)\n",
    "    hub.switches['B'] = Switch('B', {}, invert = False)\n",
    "    steps = {'A_ON': {'duration': 1, 'state': {'A': 1, 'B': 0}},\n",
    "             'B_ON': {'duration': 1, 'state': {'A': 0, 'B': 1}}}\n",
    "    sequencer = Sequencer('sequencer', parent=hub, params={'sequence': steps})\n",
    "    \n",
    "    network.add_hub(hub)"
   ]
  },
  {
   "cell_type": "markdown",
   "metadata": {},
   "source": [
    "Now let's run our network! First, execute the following cell to link the Qt event loop with IPython:"
   ]
  },
  {
   "cell_type": "code",
   "execution_count": null,
   "metadata": {},
   "outputs": [],
   "source": [
    "%gui qt5"
   ]
  },
  {
   "cell_type": "markdown",
   "metadata": {},
   "source": [
    "Now, run the launch() method in main.py, specifying the initialize method we defined above:"
   ]
  },
  {
   "cell_type": "code",
   "execution_count": null,
   "metadata": {},
   "outputs": [],
   "source": [
    "%run main test --addr 127.0.0.1"
   ]
  },
  {
   "cell_type": "markdown",
   "metadata": {},
   "source": [
    "You should see the main GUI for EMERGENT start up. Take some time to familiarize yourself with the various parts, or follow the tutorials below."
   ]
  },
  {
   "cell_type": "markdown",
   "metadata": {},
   "source": [
    "# State representation and actuation"
   ]
  },
  {
   "cell_type": "markdown",
   "metadata": {},
   "source": [
    "The panel on the left side is called the Network Tree, and it displays all objects in your EMERGENT network. From this panel, you can check or update the state of any input. Notice that the X and Y inputs have initialized to 0, as there are no saved states on file yet for this new network. You can access the objects and state from the command-line using the global \"network\" variable, as in the following example:"
   ]
  },
  {
   "cell_type": "code",
   "execution_count": null,
   "metadata": {},
   "outputs": [],
   "source": [
    "hub = network.hubs['hub']\n",
    "thing = hub.children['thing']\n",
    "X = thing.children['X']\n",
    "\n",
    "print(hub.state)"
   ]
  },
  {
   "cell_type": "markdown",
   "metadata": {},
   "source": [
    "To change a device state, you can simply double click on the corresponding input's \"Value\" entry in the Network panel, enter a new value, and press Return. This calls the hub.actuate(state) method, during which the hub distributes actuation commands to all affected devices. The devices themselves are updated through their \\_actuate method as defined above, which should be overloaded in each Thing subclass.\n",
    "\n",
    "Alternately, we can bypass the GUI and actuate from the command line:"
   ]
  },
  {
   "cell_type": "code",
   "execution_count": null,
   "metadata": {},
   "outputs": [],
   "source": [
    "new_state = {'thing': {'X': 1, 'Y': 2}}\n",
    "hub.actuate(new_state)\n",
    "print('New state:', hub.state)"
   ]
  },
  {
   "cell_type": "code",
   "execution_count": null,
   "metadata": {},
   "outputs": [],
   "source": []
  }
 ],
 "metadata": {
  "kernelspec": {
   "display_name": "Python 3",
   "language": "python",
   "name": "python3"
  },
  "language_info": {
   "codemirror_mode": {
    "name": "ipython",
    "version": 3
   },
   "file_extension": ".py",
   "mimetype": "text/x-python",
   "name": "python",
   "nbconvert_exporter": "python",
   "pygments_lexer": "ipython3",
   "version": "3.7.1"
  }
 },
 "nbformat": 4,
 "nbformat_minor": 2
}
