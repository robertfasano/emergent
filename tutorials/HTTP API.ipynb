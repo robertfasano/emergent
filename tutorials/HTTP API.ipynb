{
 "cells": [
  {
   "cell_type": "markdown",
   "metadata": {},
   "source": [
    "# Introduction\n",
    "To facilitate communications between remote Python interpreters, the EMERGENT master hosts a Flask-based REST API. To start using it, let's create and run a fresh network by running the Getting Started notebook:"
   ]
  },
  {
   "cell_type": "code",
   "execution_count": null,
   "metadata": {},
   "outputs": [],
   "source": [
    "%run \"./Getting started.ipynb\""
   ]
  },
  {
   "cell_type": "markdown",
   "metadata": {},
   "source": [
    "The above script has dumped a fresh network for testing into the emergent/networks folder, launched the master running on localhost, and updated the state. With the master running, we can access the REST API in a browser at http://localhost:6000. In the following tutorial, we will show all available endpoints and functionalities.\n",
    "\n",
    "When you access a page in your browser, the browser is submitting a GET request to the API behind the scenes. For demonstration's sake, we'll instead use the requests library to show these requests right in this notebook. For example, let's get the front page of the API:"
   ]
  },
  {
   "cell_type": "code",
   "execution_count": null,
   "metadata": {},
   "outputs": [],
   "source": [
    "import requests\n",
    "base_url = 'http://localhost:6000'\n",
    "while True:\n",
    "    try:\n",
    "        r=requests.get(base_url)\n",
    "        if r.text == 'EMERGENT API':\n",
    "            break\n",
    "    except:\n",
    "        continue\n",
    "print(r.text)"
   ]
  },
  {
   "cell_type": "markdown",
   "metadata": {},
   "source": [
    "You can see two things in the output: the server has acknowledged the request, and we have printed the response. The while loop is just to wait until the API starts up before executing anything further in this notebook. Now let's work through the various endpoints."
   ]
  },
  {
   "cell_type": "markdown",
   "metadata": {},
   "source": [
    "## Hub API\n",
    "Let's check out all the ways we can access various hub endpoints. We can list all hubs running in the master:"
   ]
  },
  {
   "cell_type": "code",
   "execution_count": null,
   "metadata": {},
   "outputs": [],
   "source": [
    "endpoint = '/hubs'\n",
    "print(requests.get(base_url+endpoint).text)"
   ]
  },
  {
   "cell_type": "markdown",
   "metadata": {},
   "source": [
    "We can navigate to any of these hubs and see available endpoints:"
   ]
  },
  {
   "cell_type": "code",
   "execution_count": null,
   "metadata": {},
   "outputs": [],
   "source": [
    "endpoint = '/hubs/hub'\n",
    "print(requests.get(base_url+endpoint).text)"
   ]
  },
  {
   "cell_type": "markdown",
   "metadata": {},
   "source": [
    "The \"state\" endpoint allows us to view the state of the experiment remotely:"
   ]
  },
  {
   "cell_type": "code",
   "execution_count": null,
   "metadata": {},
   "outputs": [],
   "source": [
    "endpoint = '/hubs/hub/state'\n",
    "print(requests.get(base_url+endpoint).text)"
   ]
  },
  {
   "cell_type": "markdown",
   "metadata": {},
   "source": [
    "We can also update the state with a POST request:"
   ]
  },
  {
   "cell_type": "code",
   "execution_count": null,
   "metadata": {},
   "outputs": [],
   "source": [
    "new_state = {'thing': {'X': 1.7}}\n",
    "endpoint = '/hubs/hub/state'\n",
    "requests.post(base_url+endpoint, json=new_state)\n",
    "print(requests.get(base_url+endpoint).text)"
   ]
  },
  {
   "cell_type": "markdown",
   "metadata": {},
   "source": [
    "The EMERGENT Dashboard uses this API to communicate with the master. When you first start the Dashboard, it submits a get request to the state endpoints to display the current state of the experiment in the GUI. When you update the state directly from the GUI (by double-clicking an item in the network tree and inputting a new value), it submits a POST request to alert the master to the update."
   ]
  },
  {
   "cell_type": "code",
   "execution_count": null,
   "metadata": {},
   "outputs": [],
   "source": []
  },
  {
   "cell_type": "code",
   "execution_count": null,
   "metadata": {},
   "outputs": [],
   "source": []
  }
 ],
 "metadata": {
  "kernelspec": {
   "display_name": "Python 3",
   "language": "python",
   "name": "python3"
  },
  "language_info": {
   "codemirror_mode": {
    "name": "ipython",
    "version": 3
   },
   "file_extension": ".py",
   "mimetype": "text/x-python",
   "name": "python",
   "nbconvert_exporter": "python",
   "pygments_lexer": "ipython3",
   "version": "3.7.1"
  }
 },
 "nbformat": 4,
 "nbformat_minor": 2
}
