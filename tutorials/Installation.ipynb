{
 "cells": [
  {
   "cell_type": "markdown",
   "metadata": {},
   "source": [
    "# Installation\n",
    "In the following tutorial, we will install EMERGENT in a new virtual environment. This has the advantage of building with a clean slate, only installing the packages we need and avoiding any dependency conflicts. To follow this tutorial, you should first make sure you have the latest distribution of Anaconda, which you can download from [https://anaconda.org/](https://anaconda.org/).\n",
    "\n",
    "To start, let's create and activate a new virtual environment called \"emergent\":"
   ]
  },
  {
   "cell_type": "code",
   "execution_count": 1,
   "metadata": {},
   "outputs": [
    {
     "name": "stderr",
     "output_type": "stream",
     "text": [
      "UsageError: Line magic function `%conda` not found.\n"
     ]
    }
   ],
   "source": [
    "%conda create -n emergent python=3.7 --yes"
   ]
  },
  {
   "cell_type": "markdown",
   "metadata": {},
   "source": [
    "After creating the virtual environment, you should close Jupyter, then run \"conda activate emergent\" in Anaconda Prompt to switch environments. Next, relaunch Jupyter within this environment and start from here\n",
    "\n",
    "Now it's time to install EMERGENT itself. Let's download the latest version from the GitLab repository:\n"
   ]
  },
  {
   "cell_type": "code",
   "execution_count": null,
   "metadata": {},
   "outputs": [],
   "source": [
    "%cd '~'\n",
    "import os\n",
    "os.system('git clone https://gitlab.com/emergentlab/emergent.git')"
   ]
  },
  {
   "cell_type": "markdown",
   "metadata": {},
   "source": [
    "Now let's build EMERGENT from source:"
   ]
  },
  {
   "cell_type": "code",
   "execution_count": null,
   "metadata": {},
   "outputs": [],
   "source": [
    "%cd ~/emergent\n",
    "%run setup.py develop"
   ]
  },
  {
   "cell_type": "markdown",
   "metadata": {},
   "source": [
    "Now let's check that the installation went smoothly by attempting to import EMERGENT:"
   ]
  },
  {
   "cell_type": "code",
   "execution_count": null,
   "metadata": {},
   "outputs": [],
   "source": [
    "import emergent\n",
    "print(emergent)"
   ]
  }
 ],
 "metadata": {
  "kernelspec": {
   "display_name": "Python 3",
   "language": "python",
   "name": "python3"
  },
  "language_info": {
   "codemirror_mode": {
    "name": "ipython",
    "version": 3
   },
   "file_extension": ".py",
   "mimetype": "text/x-python",
   "name": "python",
   "nbconvert_exporter": "python",
   "pygments_lexer": "ipython3",
   "version": "3.7.0"
  }
 },
 "nbformat": 4,
 "nbformat_minor": 2
}
