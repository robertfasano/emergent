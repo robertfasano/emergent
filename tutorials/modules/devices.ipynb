{
 "cells": [
  {
   "cell_type": "markdown",
   "metadata": {},
   "source": [
    "# Devices\n",
    "This tutorial is aimed at explaining the entirety of writing Device drivers to interface with lab equipment. Let's take a look at the most basic Device, which is found in the Core tutorial:"
   ]
  },
  {
   "cell_type": "code",
   "execution_count": null,
   "metadata": {},
   "outputs": [],
   "source": [
    "from emergent.core import Device, Knob\n",
    "\n",
    "class TestDevice(Device):\n",
    "    ''' Device driver for the virtual network in the 'basic' example. '''\n",
    "    X = Knob('X')\n",
    "        \n",
    "    \n",
    "dev = TestDevice('dev', hub=None, params={})"
   ]
  },
  {
   "cell_type": "markdown",
   "metadata": {},
   "source": [
    "We've defined a single knob called X. We can interact with it like this:"
   ]
  },
  {
   "cell_type": "code",
   "execution_count": null,
   "metadata": {},
   "outputs": [],
   "source": [
    "dev.X = 2\n",
    "print(dev.X)"
   ]
  },
  {
   "cell_type": "markdown",
   "metadata": {},
   "source": [
    "## Device commands\n",
    "So far, the knob is only a virtual object. In order to implement device control, we override the default setter method with whatever device command you want to send:"
   ]
  },
  {
   "cell_type": "code",
   "execution_count": 4,
   "metadata": {},
   "outputs": [
    {
     "name": "stdout",
     "output_type": "stream",
     "text": [
      "Add boilerplate to X\n",
      "Adding boilerplate\n"
     ]
    },
    {
     "ename": "AttributeError",
     "evalue": "'TestDevice' object has no attribute '__X'",
     "output_type": "error",
     "traceback": [
      "\u001b[0;31m---------------------------------------------------------------------------\u001b[0m",
      "\u001b[0;31mAttributeError\u001b[0m                            Traceback (most recent call last)",
      "\u001b[0;32m<ipython-input-4-9a49c341d963>\u001b[0m in \u001b[0;36m<module>\u001b[0;34m\u001b[0m\n\u001b[1;32m     13\u001b[0m \u001b[0;34m\u001b[0m\u001b[0m\n\u001b[1;32m     14\u001b[0m \u001b[0mdev\u001b[0m \u001b[0;34m=\u001b[0m \u001b[0mTestDevice\u001b[0m\u001b[0;34m(\u001b[0m\u001b[0;34m'dev'\u001b[0m\u001b[0;34m,\u001b[0m \u001b[0mhub\u001b[0m\u001b[0;34m=\u001b[0m\u001b[0;32mNone\u001b[0m\u001b[0;34m,\u001b[0m \u001b[0mparams\u001b[0m\u001b[0;34m=\u001b[0m\u001b[0;34m{\u001b[0m\u001b[0;34m}\u001b[0m\u001b[0;34m)\u001b[0m\u001b[0;34m\u001b[0m\u001b[0;34m\u001b[0m\u001b[0m\n\u001b[0;32m---> 15\u001b[0;31m \u001b[0mdev2\u001b[0m \u001b[0;34m=\u001b[0m \u001b[0mTestDevice\u001b[0m\u001b[0;34m(\u001b[0m\u001b[0;34m'dev'\u001b[0m\u001b[0;34m,\u001b[0m \u001b[0mhub\u001b[0m\u001b[0;34m=\u001b[0m\u001b[0;32mNone\u001b[0m\u001b[0;34m,\u001b[0m \u001b[0mparams\u001b[0m\u001b[0;34m=\u001b[0m\u001b[0;34m{\u001b[0m\u001b[0;34m}\u001b[0m\u001b[0;34m)\u001b[0m\u001b[0;34m\u001b[0m\u001b[0;34m\u001b[0m\u001b[0m\n\u001b[0m\u001b[1;32m     16\u001b[0m \u001b[0mdev\u001b[0m\u001b[0;34m.\u001b[0m\u001b[0mX\u001b[0m\u001b[0;34m=\u001b[0m\u001b[0;36m3\u001b[0m\u001b[0;34m\u001b[0m\u001b[0;34m\u001b[0m\u001b[0m\n\u001b[1;32m     17\u001b[0m \u001b[0mdev\u001b[0m\u001b[0;34m.\u001b[0m\u001b[0mX\u001b[0m\u001b[0;34m=\u001b[0m\u001b[0;36m4\u001b[0m\u001b[0;34m\u001b[0m\u001b[0;34m\u001b[0m\u001b[0m\n",
      "\u001b[0;32m~/emergent/emergent/core/device.py\u001b[0m in \u001b[0;36m__init__\u001b[0;34m(self, name, hub, params)\u001b[0m\n\u001b[1;32m     48\u001b[0m \u001b[0;34m\u001b[0m\u001b[0m\n\u001b[1;32m     49\u001b[0m         \u001b[0;32mfor\u001b[0m \u001b[0mp\u001b[0m \u001b[0;32min\u001b[0m \u001b[0mself\u001b[0m\u001b[0;34m.\u001b[0m\u001b[0m_properties\u001b[0m\u001b[0;34m(\u001b[0m\u001b[0;34m)\u001b[0m\u001b[0;34m:\u001b[0m         \u001b[0;31m# initialize knob\u001b[0m\u001b[0;34m\u001b[0m\u001b[0;34m\u001b[0m\u001b[0m\n\u001b[0;32m---> 50\u001b[0;31m             \u001b[0mgetattr\u001b[0m\u001b[0;34m(\u001b[0m\u001b[0mself\u001b[0m\u001b[0;34m,\u001b[0m \u001b[0mp\u001b[0m\u001b[0;34m)\u001b[0m\u001b[0;34m\u001b[0m\u001b[0;34m\u001b[0m\u001b[0m\n\u001b[0m\u001b[1;32m     51\u001b[0m         \u001b[0mself\u001b[0m\u001b[0;34m.\u001b[0m\u001b[0m_add_boilerplate\u001b[0m\u001b[0;34m(\u001b[0m\u001b[0;34m)\u001b[0m\u001b[0;34m\u001b[0m\u001b[0;34m\u001b[0m\u001b[0m\n\u001b[1;32m     52\u001b[0m         \u001b[0;31m# self.ignored = []       # objects to ignore during pickling\u001b[0m\u001b[0;34m\u001b[0m\u001b[0;34m\u001b[0m\u001b[0;34m\u001b[0m\u001b[0m\n",
      "\u001b[0;32m~/emergent/emergent/core/device.py\u001b[0m in \u001b[0;36m<lambda>\u001b[0;34m(self, name)\u001b[0m\n\u001b[1;32m    108\u001b[0m             \u001b[0;31m# setattr(self.__class__, new, get_dict_attr(self, prop))\u001b[0m\u001b[0;34m\u001b[0m\u001b[0;34m\u001b[0m\u001b[0;34m\u001b[0m\u001b[0m\n\u001b[1;32m    109\u001b[0m             \u001b[0mprint\u001b[0m\u001b[0;34m(\u001b[0m\u001b[0;34m'Add boilerplate to'\u001b[0m\u001b[0;34m,\u001b[0m \u001b[0mprop\u001b[0m\u001b[0;34m)\u001b[0m\u001b[0;34m\u001b[0m\u001b[0;34m\u001b[0m\u001b[0m\n\u001b[0;32m--> 110\u001b[0;31m             setattr(self.__class__, prop, property(lambda self, name=new: getter(self, name),\n\u001b[0m\u001b[1;32m    111\u001b[0m                                                    lambda self, newval, name=new: setter(self, newval, name)))\n\u001b[1;32m    112\u001b[0m \u001b[0;34m\u001b[0m\u001b[0m\n",
      "\u001b[0;32m~/emergent/emergent/core/device.py\u001b[0m in \u001b[0;36mgetter\u001b[0;34m(self, name)\u001b[0m\n\u001b[1;32m     93\u001b[0m             \u001b[0;34m''' Calls the user-defined getter method with no changes. '''\u001b[0m\u001b[0;34m\u001b[0m\u001b[0;34m\u001b[0m\u001b[0m\n\u001b[1;32m     94\u001b[0m             \u001b[0mprint\u001b[0m\u001b[0;34m(\u001b[0m\u001b[0;34m'Adding boilerplate'\u001b[0m\u001b[0;34m)\u001b[0m\u001b[0;34m\u001b[0m\u001b[0;34m\u001b[0m\u001b[0m\n\u001b[0;32m---> 95\u001b[0;31m             \u001b[0;32mreturn\u001b[0m \u001b[0mgetattr\u001b[0m\u001b[0;34m(\u001b[0m\u001b[0mself\u001b[0m\u001b[0;34m,\u001b[0m \u001b[0mname\u001b[0m\u001b[0;34m)\u001b[0m\u001b[0;34m\u001b[0m\u001b[0;34m\u001b[0m\u001b[0m\n\u001b[0m\u001b[1;32m     96\u001b[0m \u001b[0;34m\u001b[0m\u001b[0m\n\u001b[1;32m     97\u001b[0m         \u001b[0;32mdef\u001b[0m \u001b[0msetter\u001b[0m\u001b[0;34m(\u001b[0m\u001b[0mself\u001b[0m\u001b[0;34m,\u001b[0m \u001b[0mnewval\u001b[0m\u001b[0;34m,\u001b[0m \u001b[0mname\u001b[0m\u001b[0;34m)\u001b[0m\u001b[0;34m:\u001b[0m\u001b[0;34m\u001b[0m\u001b[0;34m\u001b[0m\u001b[0m\n",
      "\u001b[0;31mAttributeError\u001b[0m: 'TestDevice' object has no attribute '__X'"
     ]
    }
   ],
   "source": [
    "from emergent.core import Device, Knob\n",
    "\n",
    "class TestDevice(Device):\n",
    "    ''' Device driver for the virtual network in the 'basic' example. '''\n",
    "    X = Knob('X')\n",
    "\n",
    "#     @X.setter\n",
    "#     def X(self, x):\n",
    "#         print('Sending device command to update X to %f'%x)\n",
    "#     def __init__(self, name, hub, params):\n",
    "#         self.knobs = []\n",
    "#         return\n",
    "    \n",
    "dev = TestDevice('dev', hub=None, params={})\n",
    "dev2 = TestDevice('dev', hub=None, params={})\n",
    "dev.X=3\n",
    "dev.X=4\n",
    "# dev.X\n",
    "\n",
    "# print(dev.X, dev2.X)\n"
   ]
  },
  {
   "cell_type": "code",
   "execution_count": 3,
   "metadata": {},
   "outputs": [
    {
     "name": "stdout",
     "output_type": "stream",
     "text": [
      "Adding boilerplate\n"
     ]
    },
    {
     "data": {
      "text/plain": [
       "4"
      ]
     },
     "execution_count": 3,
     "metadata": {},
     "output_type": "execute_result"
    }
   ],
   "source": [
    "dev.X"
   ]
  },
  {
   "cell_type": "markdown",
   "metadata": {},
   "source": [
    "Notice that the new setter method we defined doesn't explicitly redefine the variable - this is handled behind the scenes in the Device.\\_add_boilerplate() method. You only need to define the device-specific code that you want to execute, and EMERGENT automatically adds the boilerplate to keep track of the virtual state."
   ]
  },
  {
   "cell_type": "markdown",
   "metadata": {},
   "source": [
    "## Device queries\n",
    "The default Knob behavior is to store the last value defined by the user. This can lead to desynchronization between the virtual and physical values if someone turns a real knob in the lab. This can be remedied by overriding the getter method to request the real state from the device. This is not yet implemented due to a few technical reasons: overriding the getter requires replacing the entire Knob (defining a setter as well), and this breaks the auto-boilerplate-generator."
   ]
  },
  {
   "cell_type": "markdown",
   "metadata": {},
   "source": [
    "# A word on properties\n",
    "The original version of EMERGENT represented device states through dictionaries. This representation is still used to communicate between Devices and Hubs; for example, you can access the state like this:"
   ]
  },
  {
   "cell_type": "code",
   "execution_count": null,
   "metadata": {},
   "outputs": [],
   "source": [
    "dev._state()"
   ]
  },
  {
   "cell_type": "markdown",
   "metadata": {},
   "source": [
    "You can also set the state using the actuate() method:"
   ]
  },
  {
   "cell_type": "code",
   "execution_count": null,
   "metadata": {},
   "outputs": [],
   "source": [
    "dev.actuate({'X':5})"
   ]
  },
  {
   "cell_type": "markdown",
   "metadata": {},
   "source": [
    "The new property-based state representation has several advantages over the dict-based representation:\n",
    "* Quality of life: setting the property directly is quicker to type than passing a dict into the actuate method. Knob declaration is also simpler and cleaner with this method.\n",
    "* Better memory compartmentalization: updating individual properties instead of a state dict reduces memory overlap between knobs, which will be useful in future parallelization efforts. Note that memory is still shared by the Hub.\n",
    "* Device synchronization: the previous dict-based method simply logged the last state sent to the device, which could become unsynchronized with the device if a physical knob was turned in the lab. Now, you can override the getter method to request the actual state from the device."
   ]
  },
  {
   "cell_type": "markdown",
   "metadata": {},
   "source": [
    "# Properties of instances"
   ]
  },
  {
   "cell_type": "code",
   "execution_count": null,
   "metadata": {},
   "outputs": [],
   "source": [
    "def Knob(name):\n",
    "    def getter(self):\n",
    "        print('Getting')\n",
    "        _name = '_%s'%name\n",
    "        if _name in self.__dict__:\n",
    "            return self.__dict__[_name]\n",
    "        \n",
    "    def setter(self, newval):\n",
    "        print('Setting')\n",
    "        _name = '_%s'%name\n",
    "\n",
    "        self.__dict__[_name] = newval\n",
    "    return property(getter, setter)\n",
    "\n",
    "        \n",
    "from emergent.core import Device\n",
    "\n",
    "class TestDevice(Device):\n",
    "    ''' Device driver for the virtual network in the 'basic' example. '''\n",
    "    X = Knob('X')\n",
    "    \n",
    "    \n",
    "dev = TestDevice('dev', hub=None, params={})\n",
    "dev2 = TestDevice('dev2', hub=None, params={})\n",
    "\n",
    "dev.X = 1\n",
    "dev2.X = 2\n",
    "\n",
    "print(dev.X, dev2.X)"
   ]
  },
  {
   "cell_type": "code",
   "execution_count": null,
   "metadata": {},
   "outputs": [],
   "source": [
    "dev2.__dict__"
   ]
  },
  {
   "cell_type": "code",
   "execution_count": null,
   "metadata": {},
   "outputs": [],
   "source": [
    "class Foo:\n",
    "    @property\n",
    "    def x(self):\n",
    "        if '_x' in self.__dict__:\n",
    "            return self.__dict__['_x']\n",
    "    \n",
    "    @x.setter\n",
    "    def x(self, newval):\n",
    "        self.__dict__['_x'] = newval\n",
    "a = Foo()\n",
    "b = Foo()\n",
    "a.x=1\n",
    "b.x = 2\n",
    "\n",
    "\n",
    "print(a.x, b.x)"
   ]
  },
  {
   "cell_type": "code",
   "execution_count": null,
   "metadata": {},
   "outputs": [],
   "source": [
    "a.x"
   ]
  },
  {
   "cell_type": "code",
   "execution_count": null,
   "metadata": {},
   "outputs": [],
   "source": []
  }
 ],
 "metadata": {
  "kernelspec": {
   "display_name": "Python 3",
   "language": "python",
   "name": "python3"
  },
  "language_info": {
   "codemirror_mode": {
    "name": "ipython",
    "version": 3
   },
   "file_extension": ".py",
   "mimetype": "text/x-python",
   "name": "python",
   "nbconvert_exporter": "python",
   "pygments_lexer": "ipython3",
   "version": "3.7.1"
  },
  "toc": {
   "base_numbering": 1,
   "nav_menu": {},
   "number_sections": false,
   "sideBar": true,
   "skip_h1_title": false,
   "title_cell": "Table of Contents",
   "title_sidebar": "Contents",
   "toc_cell": false,
   "toc_position": {},
   "toc_section_display": true,
   "toc_window_display": false
  }
 },
 "nbformat": 4,
 "nbformat_minor": 2
}
