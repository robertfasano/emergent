{
 "cells": [
  {
   "cell_type": "markdown",
   "metadata": {},
   "source": [
    "# Devices\n",
    "This tutorial is aimed at explaining the entirety of writing Device drivers to interface with lab equipment. Let's take a look at the most basic Device, which is found in the Core tutorial:"
   ]
  },
  {
   "cell_type": "code",
   "execution_count": 7,
   "metadata": {},
   "outputs": [],
   "source": [
    "from emergent.core import Device, Knob\n",
    "from emergent.core.knob import knob\n",
    "\n",
    "class TestDevice(Device):\n",
    "    ''' Device driver for the virtual network in the 'basic' example. '''\n",
    "    X = Knob('X')\n",
    "        \n",
    "    \n",
    "dev = TestDevice('dev', hub=None, params={})"
   ]
  },
  {
   "cell_type": "markdown",
   "metadata": {},
   "source": [
    "We've defined a single knob called X. We can interact with it like this:"
   ]
  },
  {
   "cell_type": "code",
   "execution_count": 8,
   "metadata": {},
   "outputs": [
    {
     "name": "stdout",
     "output_type": "stream",
     "text": [
      "2.3\n"
     ]
    }
   ],
   "source": [
    "dev.X = 2.3\n",
    "print(dev.X)"
   ]
  },
  {
   "cell_type": "markdown",
   "metadata": {},
   "source": [
    "## Device commands\n",
    "So far, the knob is only a virtual object. In order to implement device control, we override the default setter method with whatever device command you want to send:"
   ]
  },
  {
   "cell_type": "code",
   "execution_count": null,
   "metadata": {},
   "outputs": [],
   "source": [
    "from emergent.core import Device, Knob\n",
    "from emergent.core.knob import knob\n",
    "\n",
    "class TestDevice(Device):\n",
    "    ''' Device driver for the virtual network in the 'basic' example. '''\n",
    "    X = Knob('X')\n",
    "\n",
    "    @X.command\n",
    "    def X(self, x):\n",
    "        print('Sending device command to update X to %f'%x)\n",
    "\n",
    "    \n",
    "dev = TestDevice('dev', hub=None, params={})\n",
    "dev.X=4\n",
    "print(dev.X)"
   ]
  },
  {
   "cell_type": "markdown",
   "metadata": {},
   "source": [
    "Notice that the new setter method we defined doesn't explicitly redefine the variable - this is handled behind the scenes. You only need to define the device-specific command that you want to execute, and EMERGENT automatically generates the boilerplate to keep track of the virtual state."
   ]
  },
  {
   "cell_type": "markdown",
   "metadata": {},
   "source": [
    "## Device queries\n",
    "The default Knob behavior is to store the last value defined by the user. This can lead to desynchronization between the virtual and physical values if someone turns a real knob in the lab. To remedy this, we can override the getter method through the \"query\" decorator. Here, we simulate sending a command to a device and getting a noisy version back:"
   ]
  },
  {
   "cell_type": "code",
   "execution_count": null,
   "metadata": {},
   "outputs": [],
   "source": [
    "from emergent.core import Device, Knob\n",
    "import numpy as np\n",
    "\n",
    "class TestDevice(Device):\n",
    "    ''' Device driver for the virtual network in the 'basic' example. '''\n",
    "    X = Knob('X')\n",
    "    \n",
    "    @X.query\n",
    "    def X(self):\n",
    "        response = self._X + np.random.normal(scale=0.01)\n",
    "        return response\n",
    "    \n",
    "    @X.command\n",
    "    def X(self, x):\n",
    "        print('Sending device command to update X to %f'%x)\n",
    "        \n",
    "dev = TestDevice('dev', hub=None, params={})\n",
    "dev.X=3\n",
    "print(dev.X)"
   ]
  },
  {
   "cell_type": "markdown",
   "metadata": {},
   "source": [
    "# A word on properties\n",
    "The original version of EMERGENT represented device states through dictionaries. This representation is still used to communicate between Devices and Hubs; for example, you can access the state like this:"
   ]
  },
  {
   "cell_type": "code",
   "execution_count": null,
   "metadata": {},
   "outputs": [],
   "source": [
    "dev._state()"
   ]
  },
  {
   "cell_type": "markdown",
   "metadata": {},
   "source": [
    "You can also set the state using the actuate() method:"
   ]
  },
  {
   "cell_type": "code",
   "execution_count": null,
   "metadata": {},
   "outputs": [],
   "source": [
    "dev.actuate({'X':7})\n",
    "print(dev.X)"
   ]
  },
  {
   "cell_type": "markdown",
   "metadata": {},
   "source": [
    "The new property-based state representation has several advantages over the dict-based representation:\n",
    "* Quality of life: setting the property directly is quicker to type than passing a dict into the actuate method. Knob declaration is also simpler and cleaner with this method.\n",
    "* Better memory compartmentalization: updating individual properties instead of a state dict reduces memory overlap between knobs, which will be useful in future parallelization efforts. Note that memory is still shared by the Hub.\n",
    "* Device synchronization: the previous dict-based method simply logged the last state sent to the device, which could become unsynchronized with the device if a physical knob was turned in the lab. Now, you can override the getter method to request the actual state from the device."
   ]
  },
  {
   "cell_type": "markdown",
   "metadata": {},
   "source": [
    "# Simulation mode\n",
    "For offline device testing, any device can be put in simulation mode. In this mode, any commands and queries are bypassed and only the internal variable is updated and returned. To activate simulation mode, just set Device.simulation=True:"
   ]
  },
  {
   "cell_type": "code",
   "execution_count": null,
   "metadata": {},
   "outputs": [],
   "source": [
    "print('Simulation mode off')\n",
    "dev = TestDevice('dev', hub=None, params={})\n",
    "dev.X=3\n",
    "print(dev.X)\n",
    "\n",
    "print('\\nSimulation mode on')\n",
    "dev = TestDevice('dev', hub=None, params={})\n",
    "dev.simulation = True\n",
    "dev.X=3\n",
    "print(dev.X)"
   ]
  },
  {
   "cell_type": "markdown",
   "metadata": {},
   "source": [
    "# Example driver: Toptica DLC Pro\n",
    "In this example, we show how to write a device driver for the Toptica DLC Pro."
   ]
  },
  {
   "cell_type": "code",
   "execution_count": null,
   "metadata": {},
   "outputs": [],
   "source": [
    "from emergent.core import Device, Knob\n",
    "\n",
    "class DLCPro(Device):\n",
    "    piezo = Knob('piezo')\n",
    "    current = Knob('current')\n",
    "        \n",
    "    def __init__(self, name, hub, addr = '169.254.120.100'):\n",
    "        super().__init__(name, hub)\n",
    "        self.addr = addr\n",
    "\n",
    "    def _connect(self):\n",
    "        self.client = self._open_tcpip(self.addr, 1998)\n",
    "        for i in range(8):\n",
    "            r=self.client.recv(4096)\n",
    "\n",
    "    @piezo.command\n",
    "    def piezo(self, V):\n",
    "        self.client.sendall(b\"(param-set! 'laser1:dl:pc:voltage-set %f)\\n\"%V)\n",
    "        for i in range(3):\n",
    "            self.client.recv(2)    \n",
    "\n",
    "    @current.command\n",
    "    def current(self, I):\n",
    "        self.client.sendall(b\"(param-set! 'laser1:dl:cc:current-set %f)\\n\"%I)\n",
    "        for i in range(3):\n",
    "            self.client.recv(2)\n",
    "     \n",
    "    @piezo.query\n",
    "    def piezo(self):\n",
    "        self.client.sendall(b\"(param-ref 'laser1:dl:pc:voltage-set)\\n\")\n",
    "        V = float(str(self.client.recv(4096), 'utf-8').split('\\n')[0])\n",
    "        for i in range(2):\n",
    "            self.client.recv(2)\n",
    "        return V\n",
    "    \n",
    "    @current.query\n",
    "    def current(self):\n",
    "        self.client.sendall(b\"(param-ref 'laser1:dl:cc:current-set)\\n\")\n",
    "        I = float(str(self.client.recv(4096), 'utf-8').split('\\n')[0])\n",
    "        for i in range(2):\n",
    "            self.client.recv(2)\n",
    "        return I\n",
    "  \n",
    "laser = DLCPro('laser', None)\n",
    "laser._connect()"
   ]
  },
  {
   "cell_type": "markdown",
   "metadata": {},
   "source": [
    "We can query the laser controller for the current setpoints just by accessing the class attributes:"
   ]
  },
  {
   "cell_type": "code",
   "execution_count": null,
   "metadata": {},
   "outputs": [],
   "source": [
    "print(laser.piezo)\n",
    "print(laser.current)"
   ]
  },
  {
   "cell_type": "markdown",
   "metadata": {},
   "source": [
    "We can set the current and piezo voltage through the setter callbacks just by updating the class attributes:"
   ]
  },
  {
   "cell_type": "code",
   "execution_count": null,
   "metadata": {},
   "outputs": [],
   "source": [
    "laser.piezo = 37.4\n",
    "laser.current = 129.5"
   ]
  },
  {
   "cell_type": "markdown",
   "metadata": {},
   "source": [
    "The power of the property-based approach should be clear - this framework allows us to manipulate physical devices just by changing virtual variables! Compared to a function-based approach, this implementation allows natural, human-readable interactions with devices."
   ]
  },
  {
   "cell_type": "markdown",
   "metadata": {},
   "source": [
    "# Example driver: Bristol 871 Wavemeter\n",
    "In this example, we'll show the implementation of a Device for measurement only. Instead of Knobs, we'll add Sensors, which are basically just read-only versions."
   ]
  },
  {
   "cell_type": "code",
   "execution_count": null,
   "metadata": {},
   "outputs": [],
   "source": [
    "from emergent.core import Device, Sensor\n",
    "\n",
    "class Bristol871(Device):\n",
    "    frequency = Sensor('frequency')\n",
    "    power = Sensor('power')\n",
    "\n",
    "    def __init__(self, name, hub, addr = '10.199.199.1', port = 23):\n",
    "        super().__init__(name, hub)\n",
    "        self.addr = addr\n",
    "        self.port = port\n",
    "\n",
    "    def _connect(self):\n",
    "        try:\n",
    "            self.client = self._open_tcpip(self.addr, self.port)\n",
    "            for i in range(2):\n",
    "                self.client.recv(4096)\n",
    "        except Exception as e:\n",
    "            print(e)\n",
    "            self._connected = 0\n",
    "            return\n",
    "        self._connected = 1\n",
    "\n",
    "    def _query(self, msg, threshold = None):\n",
    "        self.client.sendall(b'%s\\n'%msg)\n",
    "        resp = float(str(self.client.recv(1024), 'utf-8').split('\\r')[0])\n",
    "\n",
    "        return resp\n",
    "\n",
    "    @frequency.query\n",
    "    def frequency(self):\n",
    "        f = self._query(b':READ:FREQ?')\n",
    "        if f < 1e-3:          # detect read failures and return None\n",
    "            return None\n",
    "        else:\n",
    "            return f * 1000   # return frequency in GHz\n",
    "    \n",
    "    @power.query\n",
    "    def power(self):\n",
    "        return self._query(b':READ:POWER?')\n",
    "\n",
    "\n",
    "wm = Bristol871('wavemeter', None, addr='10.199.199.1', port=23)\n",
    "wm._connect()"
   ]
  },
  {
   "cell_type": "markdown",
   "metadata": {},
   "source": [
    "We can retrieve measurements from the wavemeter by accessing its Sensor attributes:"
   ]
  },
  {
   "cell_type": "code",
   "execution_count": null,
   "metadata": {},
   "outputs": [],
   "source": [
    "print(wm.frequency)\n",
    "print(wm.power)\n",
    "wm.power=2"
   ]
  },
  {
   "cell_type": "markdown",
   "metadata": {},
   "source": [
    "# Example driver: Mirrorcle PicoAmp\n"
   ]
  },
  {
   "cell_type": "code",
   "execution_count": null,
   "metadata": {},
   "outputs": [],
   "source": [
    "import time\n",
    "from emergent.core import Device, Knob, Sensor\n",
    "import numpy as np\n",
    "import sys\n",
    "import os\n",
    "char = {'nt': '\\\\', 'posix': '/'}[os.name]\n",
    "sys.path.append(char.join(os.getcwd().split(char)[0:-1]))\n",
    "import logging as log\n",
    "\n",
    "class PicoAmp(Device):\n",
    "    X = Knob('X')\n",
    "    Y = Knob('Y')\n",
    "    power = Sensor('power')\n",
    "    ''' Device driver for the Mirrorcle PicoAmp board. '''\n",
    "    def __init__(self, name, params = {'labjack': None, 'type': 'digital'}, hub = None):\n",
    "        ''' Initialize the Device for use. '''\n",
    "        super().__init__(name, hub = hub, params = params)\n",
    "        self.addr = {'A': '000', 'B': '001', 'C': '010', 'D': '011', 'ALL': '111'}\n",
    "        self.labjack = params['labjack']\n",
    "        assert self.params['type'] in ['digital', 'analog']\n",
    "\n",
    "    def _connect(self):\n",
    "        ''' Initializes the PicoAmp via SPI. '''\n",
    "        if self.labjack._connected:\n",
    "            if self.params['type'] == 'digital':\n",
    "                self.labjack.spi_initialize(mode=0, CLK = 0, CS = 1, MISO = 3, MOSI = 2)\n",
    "            self.labjack.PWM(3, 49000, 50)\n",
    "\n",
    "            if self.params['type'] == 'digital':\n",
    "                FULL_RESET = '001010000000000000000001'    #2621441\n",
    "                ENABLE_INTERNAL_REFERENCE =  '001110000000000000000001'     #3670017\n",
    "                ENABLE_ALL_DAC_CHANNELS = '001000000000000000001111'      #2097167\n",
    "                ENABLE_SOFTWARE_LDAC = '001100000000000000000001'    #3145728\n",
    "\n",
    "                self.Vbias = 80.0\n",
    "                for cmd in [FULL_RESET, ENABLE_INTERNAL_REFERENCE, ENABLE_ALL_DAC_CHANNELS, ENABLE_SOFTWARE_LDAC]:\n",
    "                    self.command(cmd)\n",
    "        else:\n",
    "            log.error('Error: could not initialize PicoAmp - LabJack not connected!')\n",
    "\n",
    "    @power.query\n",
    "    def power(self):\n",
    "        return self.labjack.AIn(0)\n",
    "        \n",
    "    @X.command\n",
    "    def X(self, x):\n",
    "        self.setDifferential(x, 'X')\n",
    "\n",
    "    @Y.command\n",
    "    def Y(self, y):\n",
    "        self.setDifferential(y, 'Y')\n",
    "\n",
    "    def command(self, cmd):\n",
    "        ''' Separates the bitstring cmd into a series of bytes and sends them through the SPI. '''\n",
    "        lst = []\n",
    "        r = 0\n",
    "        for i in [0, 8, 16]:\n",
    "            lst.append(int(cmd[i:8+i],2))\n",
    "        r = self.labjack.spi_write(lst)\n",
    "\n",
    "    def digital(self, V):\n",
    "        ''' Converts an analog voltage V to a 16-bit string for the DAC '''\n",
    "        Range = 200.0\n",
    "        Vdigital = V/Range * 65535\n",
    "\n",
    "        return format(int(Vdigital), '016b')\n",
    "\n",
    "    def setDifferential(self, V, axis):\n",
    "        ''' Sets a target differential voltage V=HV_A-HV_B if axis is 'X' or V=HV_C-HV_D if axis is 'Y'.\n",
    "            For example, if V=2 and  axis is 'X', this sets HV_A=81 and HV_2=79.\n",
    "            Allowed range of V is -80 to 80.'''\n",
    "        if self.params['type'] == 'digital':\n",
    "            V = np.clip(float(V), -80, 80)\n",
    "            cmdPlus = '00' + '011' + {'X':self.addr['A'], 'Y': self.addr['C']}[axis] + self.digital(self.Vbias+V)\n",
    "            cmdMinus = '00' + '011' + {'X':self.addr['B'], 'Y': self.addr['D']}[axis] + self.digital(self.Vbias-V)\n",
    "            self.command(cmdPlus)\n",
    "            self.command(cmdMinus)\n",
    "        else:\n",
    "            V = np.clip(float(V),-5,5)\n",
    "            channel = {'X':0, 'Y':1}[axis]\n",
    "            self.labjack.AOut(channel, V, TDAC=True)\n"
   ]
  },
  {
   "cell_type": "markdown",
   "metadata": {},
   "source": [
    "# Example driver: LabJack T7"
   ]
  },
  {
   "cell_type": "code",
   "execution_count": 24,
   "metadata": {},
   "outputs": [],
   "source": [
    "import re\n",
    "\n",
    "def AIN(name):\n",
    "    ch = int(re.split('(\\d+)',name)[1])\n",
    "    def getter(self):\n",
    "        _name = '_%s'%name\n",
    "        return self.AIn(name[-1])\n",
    "\n",
    "    def setter(self, newval):\n",
    "        print(\"Sensor '%s.%s' value is read-only!\"%(self.name, name))\n",
    "    return knob(name, getter, setter)\n",
    "\n",
    "def AOUT(name):\n",
    "    ch = int(re.split('(\\d+)',name)[1])\n",
    "    _name = '_%s'%name\n",
    "    def getter(self):\n",
    "        return self.__dict__[_name]\n",
    "\n",
    "    def setter(self, newval):\n",
    "        self.__dict__[_name] = newval\n",
    "        self.AOut(ch, newval)\n",
    "    return knob(name, getter, setter)\n",
    "\n",
    "def TDAC(name):\n",
    "    ch = int(re.split('(\\d+)',name)[1])\n",
    "    _name = '_%s'%name\n",
    "    def getter(self):\n",
    "        return self.__dict__[_name]\n",
    "\n",
    "    def setter(self, newval):\n",
    "        self.__dict__[_name] = newval\n",
    "        self.AOut(ch, newval, TDAC=True)\n",
    "    return knob(name, getter, setter)\n",
    "\n",
    "def DIN(name):\n",
    "    ch = int(re.split('(\\d+)',name)[1])\n",
    "    def getter(self):\n",
    "        _name = '_%s'%name\n",
    "        return self.DIn(name[-1])\n",
    "\n",
    "    def setter(self, newval):\n",
    "        print(\"Sensor '%s.%s' value is read-only!\"%(self.name, name))\n",
    "    return knob(name, getter, setter)\n",
    "\n",
    "def DOUT(name):\n",
    "    ch = int(re.split('(\\d+)',name)[1])\n",
    "    _name = '_%s'%name\n",
    "    def getter(self):\n",
    "        return self.__dict__[_name]\n",
    "\n",
    "    def setter(self, newval):\n",
    "        self.__dict__[_name] = newval\n",
    "        self.DOut(ch, newval)\n",
    "    return knob(name, getter, setter)"
   ]
  },
  {
   "cell_type": "code",
   "execution_count": 30,
   "metadata": {},
   "outputs": [],
   "source": [
    "# from labjack import ljm\n",
    "import numpy as np\n",
    "import logging as log\n",
    "\n",
    "\n",
    "class LabJackDriver():\n",
    "    ''' Python interface for the LabJack T7. '''\n",
    "    simulation = False\n",
    "    hub = None\n",
    "    for i in range(2):\n",
    "        ch = 'AIN%i'%i\n",
    "        locals()[ch] = AIN(ch)\n",
    "\n",
    "    for i in range(2):\n",
    "        ch = 'AOUT%i'%i\n",
    "        locals()[ch] = AOUT(ch)\n",
    "    def __init__(self, params = {'device': 'ANY', 'connection': 'ANY', 'devid': 'ANY', 'arange': 10}):\n",
    "        ''' Attempt to connect to a LabJack.\n",
    "\n",
    "            Args:\n",
    "                params (dict)\n",
    "        '''\n",
    "        self.params = params\n",
    "        for param in ['device', 'connection', 'devid']:\n",
    "            if param not in self.params:\n",
    "                self.params[param] = 'ANY'\n",
    "        if 'arange' not in self.params:\n",
    "            self.params['arange'] = 10\n",
    "\n",
    "        ''' Define a FIFO queue running in a separate thread so that multiple\n",
    "            simultaneous threads can share a LabJack without interference. '''\n",
    "\n",
    "#         self._connected = self.connect()\n",
    "\n",
    "    def connect(self):\n",
    "        try:\n",
    "            self.handle = ljm.openS(self.params['device'],\n",
    "                                    self.params['connection'],\n",
    "                                    self.params['devid'])\n",
    "            info = ljm.getHandleInfo(self.handle)\n",
    "\n",
    "            self.deviceType = info[0]\n",
    "            assert self.deviceType in [ljm.constants.dtT7, ljm.constants.dtT4]\n",
    "            if self.deviceType == ljm.constants.dtT7:\n",
    "                self._command('AIN_ALL_RANGE', self.params['arange'])\n",
    "            self._command('AIN_ALL_NEGATIVE_CH', ljm.constants.GND)\n",
    "            log.info('Connected to LabJack (%i).'%(info[2]))\n",
    "            self.clock = 80e6       # internal clock frequency\n",
    "\n",
    "            try:\n",
    "                ''' Stop streaming if currently running '''\n",
    "                ljm.eStreamStop(self.handle)\n",
    "            except:\n",
    "                pass\n",
    "\n",
    "            return 1\n",
    "\n",
    "        except Exception as e:\n",
    "            log.error('Failed to connect to LabJack (%s): %s.'%(self.params['devid'], e))\n",
    "\n",
    "    def _command(self, register, value):\n",
    "        ''' Writes a value to a specified register.\n",
    "\n",
    "            Args:\n",
    "                register (str): a Modbus register on the LabJack.\n",
    "                value: the value to write to the register.\n",
    "                '''\n",
    "        ljm.eWriteName(self.handle, register, value)\n",
    "\n",
    "    def _write_array(self, registers, values):\n",
    "        ljm.eWriteNames(self.handle, len(registers), registers, values)\n",
    "\n",
    "    ''' Analog I/O '''\n",
    "    def AIn(self, channel, num = 1):\n",
    "        ''' Read a channel with optional averaging.\n",
    "\n",
    "            Args:\n",
    "                channel (int): number of the target AIN channel.\n",
    "                num (int): number of measurements to perform and average.\n",
    "        '''\n",
    "        print('AIN')\n",
    "        return\n",
    "        vals = []\n",
    "        for i in range(num):\n",
    "            vals.append(ljm.eReadName(self.handle, 'AIN%i'%channel))\n",
    "        return np.mean(vals)\n",
    "\n",
    "    def AOut(self, channel, value, TDAC=False):\n",
    "        ''' Output an analog voltage.\n",
    "\n",
    "            Args:\n",
    "                channel (int): number of the target DAC channel.\n",
    "                value (float): Voltage in volts.\n",
    "                TDAC (bool): If False, use a DAC channel (0-5 V); if True, use a TDAC channel with the LJTick-DAC accessory (+/-10 V).\n",
    "        '''\n",
    "        print('AOUT')\n",
    "        return\n",
    "        if not TDAC:\n",
    "            self._command('%s%i'%('DAC', channel), value)\n",
    "        else:\n",
    "            self._command(\"TDAC%i\"%channel, value)\n",
    "\n",
    "    ''' Digital I/O '''\n",
    "    def DIn(self, channel):\n",
    "        return ljm.eReadName(self.handle, 'DIO%i'%channel)\n",
    "\n",
    "    def DOut(self, channel, state):\n",
    "        ''' Output a digital signal.\n",
    "\n",
    "            Args:\n",
    "                channel (str): a digital channel on the LabJack, e.g. 'FIO4'.\n",
    "                state (int): 1 or 0\n",
    "        '''\n",
    "        if type(channel) is int:\n",
    "            channel = 'FIO%i'%channel\n",
    "        self._command(channel, state)\n",
    "\n",
    "if __name__ == '__main__':\n",
    "    lj = LabJackDriver(params={'devid': '470016970'})\n"
   ]
  },
  {
   "cell_type": "code",
   "execution_count": 34,
   "metadata": {},
   "outputs": [
    {
     "name": "stdout",
     "output_type": "stream",
     "text": [
      "AIN\n"
     ]
    }
   ],
   "source": []
  },
  {
   "cell_type": "code",
   "execution_count": 39,
   "metadata": {},
   "outputs": [
    {
     "name": "stdout",
     "output_type": "stream",
     "text": [
      "3\n"
     ]
    },
    {
     "data": {
      "text/plain": [
       "2.3"
      ]
     },
     "execution_count": 39,
     "metadata": {},
     "output_type": "execute_result"
    }
   ],
   "source": [
    "def set_state(knob, target):\n",
    "    knob = target\n",
    "    print(knob)\n",
    "set_state(dev.X, 3)\n",
    "dev.X"
   ]
  },
  {
   "cell_type": "code",
   "execution_count": 38,
   "metadata": {},
   "outputs": [
    {
     "ename": "SyntaxError",
     "evalue": "can't assign to literal (<ipython-input-38-29da790e286c>, line 1)",
     "output_type": "error",
     "traceback": [
      "\u001b[0;36m  File \u001b[0;32m\"<ipython-input-38-29da790e286c>\"\u001b[0;36m, line \u001b[0;32m1\u001b[0m\n\u001b[0;31m    1.1=1.2\u001b[0m\n\u001b[0m           ^\u001b[0m\n\u001b[0;31mSyntaxError\u001b[0m\u001b[0;31m:\u001b[0m can't assign to literal\n"
     ]
    }
   ],
   "source": []
  },
  {
   "cell_type": "code",
   "execution_count": null,
   "metadata": {},
   "outputs": [],
   "source": []
  }
 ],
 "metadata": {
  "kernelspec": {
   "display_name": "Python 3",
   "language": "python",
   "name": "python3"
  },
  "language_info": {
   "codemirror_mode": {
    "name": "ipython",
    "version": 3
   },
   "file_extension": ".py",
   "mimetype": "text/x-python",
   "name": "python",
   "nbconvert_exporter": "python",
   "pygments_lexer": "ipython3",
   "version": "3.7.1"
  },
  "toc": {
   "base_numbering": 1,
   "nav_menu": {},
   "number_sections": false,
   "sideBar": true,
   "skip_h1_title": false,
   "title_cell": "Table of Contents",
   "title_sidebar": "Contents",
   "toc_cell": false,
   "toc_position": {},
   "toc_section_display": true,
   "toc_window_display": false
  }
 },
 "nbformat": 4,
 "nbformat_minor": 2
}
