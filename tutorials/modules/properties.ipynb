{
 "cells": [
  {
   "cell_type": "markdown",
   "metadata": {},
   "source": [
    "# The Core module"
   ]
  },
  {
   "cell_type": "markdown",
   "metadata": {},
   "source": [
    "The Core module implements a framework for simultaneous control of many networked devices. Core classes can also describe experiments, which can be run with the ARTIQ module and optimized with the Pipeline module - after writing an experiment in a Hub class, just attach it to the optimization pipeline. The hierarchy is as follows:\n",
    "\n",
    "The lowest-level object is a Knob, a class representing a degree of freedom in your experiment, like a laser frequency or a voltage. Knobs are attached to Devices, a class which translates device drivers to standard EMERGENT syntax. The Hub class unites multiple Devices to optimize experiments defined within it. Multiple hubs can be overseen by the top-level Core class.\n",
    "\n",
    "## Step 1: Preparing the directories\n",
    "The entire collection of knobs, devices, and higher-level objects is called a \"network\", and is defined inside a directory in the emergent/networks folder. Let's create an empty network called \"test\":"
   ]
  },
  {
   "cell_type": "code",
   "execution_count": 1,
   "metadata": {},
   "outputs": [
    {
     "name": "stdout",
     "output_type": "stream",
     "text": [
      "C:\\emergent\\emergent\n"
     ]
    }
   ],
   "source": [
    "import os\n",
    "import json\n",
    "with open('../../config.json', 'r') as file:\n",
    "    path = json.load(file)['path']\n",
    "%cd $path\n",
    "%run utilities/new test"
   ]
  },
  {
   "cell_type": "markdown",
   "metadata": {},
   "source": [
    "You should see a new folder called test in the emergent/networks/ directory. \n",
    "\n",
    "## Step 2: Writing device drivers\n",
    "Next, we're going to define the core building blocks of an EMERGENT network: a Device, a Hub, and a network declaration file. Each of these is typically its own .py file; here, we'll define them within the notebook and save them to files as we go using IPython's magic %%writefile command.\n",
    "\n",
    "First, let's define a Device: a driver\n",
    "for some device in our experiment. For an in-depth guide on Device creation, please see the Devices tutorial; for now, just note that we define several knobs for our device.\n",
    "\n",
    "\n",
    "<div class=\"alert alert-block alert-info\">\n",
    "<b>_actuate():</b> takes a state dictionary as an argument. Overload this method according to the manufacturer API to \n",
    "send the state specified by the dictionary to the device to do something useful in the lab.\n",
    "<br>\n",
    "<b>_connect():</b> establishes a connection with the device and returns 1 if successful. Overload this method with \n",
    "the specific connection protocol required by the device, e.g. sending a start packet over TCP/IP.\n",
    "</div>\n",
    "\n",
    "\n",
    "In most cases you'll need to define an __init__() method as well, which should take three arguments:\n",
    "\n",
    "<div class=\"alert alert-block alert-info\">\n",
    "<b>name:</b> the name which will be displayed in the experimental state dictionary and the GUI.\n",
    "<br>\n",
    "<b>hub:</b> the Hub to which this Device will be attached.\n",
    "<br>\n",
    "<b>params:</b> a dictionary containing any parameters you might want to pass to the device, like a serial number or \n",
    "analog input range.\n",
    "</div>"
   ]
  },
  {
   "cell_type": "code",
   "execution_count": 2,
   "metadata": {},
   "outputs": [
    {
     "name": "stdout",
     "output_type": "stream",
     "text": [
      "Overwriting C:\\emergent/emergent/networks/test/devices/test_device.py\n"
     ]
    }
   ],
   "source": [
    "%%writefile $path/networks/test/devices/test_device.py\n",
    "from emergent.core import Device, Knob\n",
    "from functools import partial\n",
    "\n",
    "from emergent.core import Device, Knob\n",
    "\n",
    "class TestDevice(Device):\n",
    "    ''' Device driver for the virtual network in the 'basic' example. '''\n",
    "    X = Knob('X')\n",
    "        \n",
    "    \n",
    "# dev = TestDevice('dev', hub=None, params={})\n",
    "    "
   ]
  },
  {
   "cell_type": "markdown",
   "metadata": {},
   "source": [
    "## Step 3: Writing experiments\n",
    "Now we will construct a Hub: a virtual construct which commands multiple devices and measures some attached signal. \n",
    "The __init__ method should take the following arguments and pass them into the super().__init__ method:\n",
    "<div class=\"alert alert-block alert-info\">\n",
    "<b>name:</b> the name which will be displayed in the experimental state dictionary and the GUI.\n",
    "<br>\n",
    "<b>params:</b> a dictionary containing any parameters you might want to pass to the hub.\n",
    "<br>\n",
    "<b>network:</b> the local cluster of Hubs to associate this instance with.\n",
    "<br>\n",
    "<b>addr:</b> the IP address of the PC where you want this Hub to run. The Hub will only be constructed if the \n",
    "PC has a network card matching this address. This allows Hubs across multiple decentralized PCs to be declared in\n",
    "a single network.py file and selectively constructed depending on which PC is running the network.initialize() method.\n",
    "</div>\n",
    "\n",
    "In EMERGENT, experiments are written as methods of Hub classes with a standard call signature:\n",
    "<div class=\"alert alert-block alert-info\">\n",
    "<b>state:</b> a dictionary specifying the state for which we want to run the experiment. For example, if we want\n",
    "to measure a signal with a Device named 'device' set to coordinates X=1 and Y=2, we would pass {'device': {'X':1, 'Y':2}}.\n",
    "<br>\n",
    "<b>params:</b> a dictionary containing any parameters you might want to pass to the experiment, e.g. an averaging\n",
    "time.\n",
    "</div>\n",
    "\n",
    "The method is tagged with the @experiment decorator, which tells EMERGENT to treat it differently than a normal method: all tagged methods appear in spin-boxes in the GUI."
   ]
  },
  {
   "cell_type": "code",
   "execution_count": 3,
   "metadata": {},
   "outputs": [
    {
     "name": "stdout",
     "output_type": "stream",
     "text": [
      "Overwriting C:\\emergent/emergent/networks/test/hubs/test_hub.py\n"
     ]
    }
   ],
   "source": [
    "%%writefile $path/networks/test/hubs/test_hub.py \n",
    "import numpy as np\n",
    "import time\n",
    "from emergent.core import Hub\n",
    "from emergent.utilities.decorators import experiment, error\n",
    "\n",
    "class TestHub(Hub):\n",
    "    def __init__(self, name, core=None):\n",
    "        super().__init__(name, core = core)\n",
    "        self.options['Hello'] = self.hello\n",
    "        \n",
    "    def hello(self, name='world'):\n",
    "        print('Hello', name)\n",
    "        \n",
    "    @experiment\n",
    "    def gaussian(self, state={}, params = {'sigma_x': 0.3, 'sigma_y': 0.8, 'x0': 0.3, 'y0': 0.6, 'noise':0}):\n",
    "        self.actuate(state)\n",
    "        x=self.state['device']['X']\n",
    "        y=self.state['device']['Y']\n",
    "        x0 = params['x0']\n",
    "        y0 = params['y0']\n",
    "        sigma_x = params['sigma_x']\n",
    "        sigma_y = params['sigma_y']\n",
    "        power =  np.exp(-(x-x0)**2/sigma_x**2)*np.exp(-(y-y0)**2/sigma_y**2) + np.random.normal(0, params['noise'])\n",
    "\n",
    "        return -power\n",
    "    \n",
    "    @error \n",
    "    def error_function(self, state, params={'setpoint': 1}):\n",
    "        self.actuate(state)\n",
    "        return self.state['device']['X'] - params['setpoint']\n",
    "    "
   ]
  },
  {
   "cell_type": "markdown",
   "metadata": {},
   "source": [
    "## Step 4: Initializing the network\n",
    "The last step is to declare our objects in a network.py file, which should contain only a method called initialize() which is structured as follows:"
   ]
  },
  {
   "cell_type": "code",
   "execution_count": 4,
   "metadata": {},
   "outputs": [
    {
     "name": "stdout",
     "output_type": "stream",
     "text": [
      "Overwriting C:\\emergent/emergent/networks/test/network.py\n"
     ]
    }
   ],
   "source": [
    "%%writefile $path/networks/test/network.py\n",
    "\n",
    "from emergent.networks.test.hubs.test_hub import TestHub\n",
    "from emergent.networks.test.devices.test_device import TestDevice\n",
    "\n",
    "def initialize(core, params = {}):\n",
    "    hub = TestHub(name='hub', core=core)\n",
    "    device = TestDevice('device', hub, params={})\n",
    "    \n",
    "    core.add_hub(hub)"
   ]
  },
  {
   "cell_type": "markdown",
   "metadata": {},
   "source": [
    "Now, launch the network!"
   ]
  },
  {
   "cell_type": "code",
   "execution_count": 5,
   "metadata": {},
   "outputs": [
    {
     "name": "stdout",
     "output_type": "stream",
     "text": [
      "API running at 127.0.0.1:6000\n",
      " * Serving Flask app \"emergent.API.API\" (lazy loading)\n",
      " * Environment: production\n"
     ]
    }
   ],
   "source": [
    "%run master test --port 5000"
   ]
  },
  {
   "cell_type": "markdown",
   "metadata": {},
   "source": [
    "# State representation and actuation"
   ]
  },
  {
   "cell_type": "markdown",
   "metadata": {},
   "source": [
    "You can access the objects and state from the command-line using the global \"core\" variable. Knobs can be changed directly from the devices:"
   ]
  },
  {
   "cell_type": "code",
   "execution_count": 8,
   "metadata": {},
   "outputs": [
    {
     "name": "stdout",
     "output_type": "stream",
     "text": [
      "1\n",
      "4\n"
     ]
    }
   ],
   "source": [
    "hub = core.hubs['hub']\n",
    "device = hub.devices['device']\n",
    "print(device.X)\n",
    "device.X=4\n",
    "print(device.X)"
   ]
  },
  {
   "cell_type": "markdown",
   "metadata": {},
   "source": [
    "Alternately, you can pass a state dict into the actuate() method of either the Device or Hub. The following commands are equivalent:"
   ]
  },
  {
   "cell_type": "code",
   "execution_count": 10,
   "metadata": {},
   "outputs": [
    {
     "name": "stdout",
     "output_type": "stream",
     "text": [
      "New state: DataDict([('device', {'X': 1, 'Y': 2})])\n"
     ]
    }
   ],
   "source": [
    "device.actuate({'X': 1, 'Y': 2})\n",
    "hub.actuate({'device': {'X': 1, 'Y': 2}})\n",
    "print('New state:', hub.state)"
   ]
  },
  {
   "cell_type": "markdown",
   "metadata": {},
   "source": [
    "The hub also possesses a range attribute that defines the bounds in optimization processes."
   ]
  },
  {
   "cell_type": "code",
   "execution_count": 11,
   "metadata": {},
   "outputs": [
    {
     "data": {
      "text/plain": [
       "DataDict([('device', {'X': {'min': 0.0, 'max': 1.0}})])"
      ]
     },
     "execution_count": 11,
     "metadata": {},
     "output_type": "execute_result"
    }
   ],
   "source": [
    "hub.range"
   ]
  }
 ],
 "metadata": {
  "kernelspec": {
   "display_name": "Python 3",
   "language": "python",
   "name": "python3"
  },
  "language_info": {
   "codemirror_mode": {
    "name": "ipython",
    "version": 3
   },
   "file_extension": ".py",
   "mimetype": "text/x-python",
   "name": "python",
   "nbconvert_exporter": "python",
   "pygments_lexer": "ipython3",
   "version": "3.7.0"
  },
  "toc": {
   "base_numbering": 1,
   "nav_menu": {},
   "number_sections": false,
   "sideBar": true,
   "skip_h1_title": false,
   "title_cell": "Table of Contents",
   "title_sidebar": "Contents",
   "toc_cell": false,
   "toc_position": {},
   "toc_section_display": true,
   "toc_window_display": false
  }
 },
 "nbformat": 4,
 "nbformat_minor": 2
}
