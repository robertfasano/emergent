{
 "cells": [
  {
   "cell_type": "markdown",
   "metadata": {},
   "source": [
    "# Sequencing\n",
    "The Sequencing module allows compatibility with ARTIQ or other hardware to generate precisely timed events, including TTL pulses, ADC reads, and DAC and DDS updates. Since the Sequencing module depends on the core, let's start it up first:"
   ]
  },
  {
   "cell_type": "code",
   "execution_count": 1,
   "metadata": {},
   "outputs": [
    {
     "name": "stdout",
     "output_type": "stream",
     "text": [
      "/Users/robbiefasano/emergent/emergent\n",
      "Overwriting /Users/robbiefasano/emergent/emergent/networks/test/things/test_thing.py\n",
      "Overwriting /Users/robbiefasano/emergent/emergent/networks/test/hubs/test_hub.py\n",
      "Overwriting /Users/robbiefasano/emergent/emergent/networks/test/network.py\n",
      "API running at 127.0.0.1:6000\n",
      "DataDict([('thing', {'X': 1.0, 'Y': 2.0})])\n",
      " * Serving Flask app \"emergent.API.API\" (lazy loading)\n",
      "New state: DataDict([('thing', {'X': 1, 'Y': 2})])\n",
      " * Environment: production\n",
      "   WARNING: Do not use the development server in a production environment.\n",
      "   Use a production WSGI server instead.\n",
      " * Debug mode: off\n"
     ]
    }
   ],
   "source": [
    "%run \"core.ipynb\""
   ]
  },
  {
   "cell_type": "code",
   "execution_count": 2,
   "metadata": {},
   "outputs": [],
   "source": [
    "from emergent.artiq import Sequencer\n",
    "s = Sequencer(core)"
   ]
  },
  {
   "cell_type": "markdown",
   "metadata": {},
   "source": [
    "The \"steps\" attribute contains a dict for each timestep. Since we didn't specifically pass a list of steps at construction, it's empty:"
   ]
  },
  {
   "cell_type": "code",
   "execution_count": 3,
   "metadata": {},
   "outputs": [
    {
     "data": {
      "text/plain": [
       "[]"
      ]
     },
     "execution_count": 3,
     "metadata": {},
     "output_type": "execute_result"
    }
   ],
   "source": [
    "s.steps"
   ]
  },
  {
   "cell_type": "markdown",
   "metadata": {},
   "source": [
    "Let's add a step with a single event: setting TTLs 0 and 3 to on:"
   ]
  },
  {
   "cell_type": "code",
   "execution_count": 4,
   "metadata": {},
   "outputs": [],
   "source": [
    "step = {'name': 'step1', 'TTL': [0, 3]}\n",
    "s.add(step)"
   ]
  },
  {
   "cell_type": "code",
   "execution_count": 5,
   "metadata": {},
   "outputs": [
    {
     "data": {
      "text/plain": [
       "[{'name': 'step1', 'TTL': [0, 3]}]"
      ]
     },
     "execution_count": 5,
     "metadata": {},
     "output_type": "execute_result"
    }
   ],
   "source": [
    "s.steps"
   ]
  },
  {
   "cell_type": "code",
   "execution_count": null,
   "metadata": {},
   "outputs": [],
   "source": []
  },
  {
   "cell_type": "code",
   "execution_count": null,
   "metadata": {},
   "outputs": [],
   "source": []
  }
 ],
 "metadata": {
  "kernelspec": {
   "display_name": "Python 3",
   "language": "python",
   "name": "python3"
  },
  "language_info": {
   "codemirror_mode": {
    "name": "ipython",
    "version": 3
   },
   "file_extension": ".py",
   "mimetype": "text/x-python",
   "name": "python",
   "nbconvert_exporter": "python",
   "pygments_lexer": "ipython3",
   "version": "3.7.1"
  }
 },
 "nbformat": 4,
 "nbformat_minor": 2
}
