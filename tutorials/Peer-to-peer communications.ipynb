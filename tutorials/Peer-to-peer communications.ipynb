{
 "cells": [
  {
   "cell_type": "markdown",
   "metadata": {},
   "source": [
    "In this notebook we'll analyze the peer-to-peer communication protocol allowing the EMERGENT backend to communicate with the frontend. When a new EMERGENT session is started, it attaches a P2PNode object:"
   ]
  },
  {
   "cell_type": "code",
   "execution_count": null,
   "metadata": {},
   "outputs": [],
   "source": [
    "from emergent.protocols.p2p import P2PNode\n",
    "P2PNode??"
   ]
  },
  {
   "cell_type": "markdown",
   "metadata": {},
   "source": [
    "When the P2PNode is initialized, it sets up a Listener server:"
   ]
  },
  {
   "cell_type": "code",
   "execution_count": null,
   "metadata": {},
   "outputs": [],
   "source": [
    "from emergent.protocols.p2p import Listener\n",
    "Listener??"
   ]
  },
  {
   "cell_type": "markdown",
   "metadata": {},
   "source": [
    "Calling the bind() method creates a Sender client and opens a connection to the IP address specified by the argument. Let's see it in action:"
   ]
  },
  {
   "cell_type": "code",
   "execution_count": 1,
   "metadata": {},
   "outputs": [
    {
     "name": "stdout",
     "output_type": "stream",
     "text": [
      "2019-03-03T23:13:48.823119 local: Serving at localhost::29170.\n",
      "2019-03-03T23:13:48.867138 remote: Serving at localhost::29171.\n",
      "2019-03-03T23:13:49.093180 remote: Received message: {'op': 'connect', 'params': {'addr': 'localhost', 'port': 29170}}\n",
      "2019-03-03T23:13:49.188212 remote: Sending: {'op': 'update', 'params': 1}\n",
      "2019-03-03T23:13:49.222933 local: Received: {'op': 'update', 'params': 1, 'timestamp': '2019-03-03T23:13:49.215948'}\n",
      "2019-03-03T23:13:49.343970 local: Received message: {'op': 'connect', 'params': {'addr': 'localhost', 'port': 29171}}\n",
      "2019-03-03T23:13:49.401041 local: Sending: {'op': 'update', 'params': 1}\n",
      "2019-03-03T23:13:49.501047 remote: Received: {'op': 'update', 'params': 1, 'timestamp': '2019-03-03T23:13:49.487028'}\n"
     ]
    }
   ],
   "source": [
    "from emergent.protocols.p2p import P2PNode\n",
    "\n",
    "local_addr = 'localhost'\n",
    "remote_addr = 'localhost'\n",
    "local_port = 29170\n",
    "remote_port = 29171\n",
    "\n",
    "local_node = P2PNode('local', local_addr, local_port)\n",
    "remote_node = P2PNode('remote', remote_addr, remote_port)\n",
    "\n",
    "local_node.bind(remote_addr, remote_port)\n",
    "# remote_node.bind(local_addr, local_port)"
   ]
  },
  {
   "cell_type": "markdown",
   "metadata": {},
   "source": [
    "In the example above, we ran both P2P nodes on the localhost of your PC with different ports, but you can just as easily specify any other local and remote IP addresses to open a communication channel between."
   ]
  },
  {
   "cell_type": "markdown",
   "metadata": {},
   "source": [
    "To further demonstrate the communications, let's run an echo test:"
   ]
  },
  {
   "cell_type": "code",
   "execution_count": null,
   "metadata": {},
   "outputs": [],
   "source": [
    "local_node.sender.echo('hello world')"
   ]
  },
  {
   "cell_type": "code",
   "execution_count": null,
   "metadata": {},
   "outputs": [],
   "source": []
  }
 ],
 "metadata": {
  "kernelspec": {
   "display_name": "Python 3",
   "language": "python",
   "name": "python3"
  },
  "language_info": {
   "codemirror_mode": {
    "name": "ipython",
    "version": 3
   },
   "file_extension": ".py",
   "mimetype": "text/x-python",
   "name": "python",
   "nbconvert_exporter": "python",
   "pygments_lexer": "ipython3",
   "version": "3.7.0"
  }
 },
 "nbformat": 4,
 "nbformat_minor": 2
}
