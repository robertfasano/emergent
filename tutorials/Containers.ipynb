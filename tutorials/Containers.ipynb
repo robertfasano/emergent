{
 "cells": [
  {
   "cell_type": "markdown",
   "metadata": {},
   "source": [
    "EMERGENT uses several unique datatypes to organize data. In this tutorial we will examine the various functionalities provided by these new types.\n",
    "\n",
    "# DataDict\n",
    "The DataDict class is similar to the collections library's OrderedDict: it preserves the order in which elements are added. However, it also implements several methods used in the REST API standard. Let's prepare a database:"
   ]
  },
  {
   "cell_type": "code",
   "execution_count": 1,
   "metadata": {},
   "outputs": [],
   "source": [
    "from emergent.utilities.containers import DataDict\n",
    "\n",
    "database = DataDict({'alphabet': {'a': 1, 'b': 2, 'z': 26}})"
   ]
  },
  {
   "cell_type": "markdown",
   "metadata": {},
   "source": [
    "Because Python dicts are mutable and assignment is done by reference, copying a dict is not as simple as assigning a new one:"
   ]
  },
  {
   "cell_type": "code",
   "execution_count": 2,
   "metadata": {},
   "outputs": [
    {
     "name": "stdout",
     "output_type": "stream",
     "text": [
      "{'a': 5, 'b': 2}\n",
      "{'a': 5, 'b': 2}\n"
     ]
    }
   ],
   "source": [
    "d = {'a':1, 'b':2}\n",
    "D = d\n",
    "D['a'] = 5\n",
    "print(d)\n",
    "print(D)"
   ]
  },
  {
   "cell_type": "markdown",
   "metadata": {},
   "source": [
    "If we want to create an unlinked copy, we can use the APIDict.copy() method:"
   ]
  },
  {
   "cell_type": "code",
   "execution_count": 3,
   "metadata": {},
   "outputs": [
    {
     "name": "stdout",
     "output_type": "stream",
     "text": [
      "DataDict([('a', 1), ('b', 2)])\n",
      "DataDict([('a', 5), ('b', 2)])\n"
     ]
    }
   ],
   "source": [
    "d = DataDict({'a':1, 'b':2})\n",
    "D = d.copy()\n",
    "D['a'] = 5\n",
    "print(d)\n",
    "print(D)"
   ]
  },
  {
   "cell_type": "markdown",
   "metadata": {},
   "source": [
    "To simplfy update an existing field, we can call the patch() method:"
   ]
  },
  {
   "cell_type": "code",
   "execution_count": 4,
   "metadata": {},
   "outputs": [
    {
     "name": "stdout",
     "output_type": "stream",
     "text": [
      "Copy: DataDict([('alphabet', {'a': 1, 'b': 2, 'z': 26})])\n",
      "New addition: {'alphabet': {'a': 2, 'c': 3}, 'numbers': {'1': 1, '2': 2}}\n",
      "Patched: DataDict([('alphabet', {'a': 2, 'b': 2, 'z': 26})])\n"
     ]
    }
   ],
   "source": [
    "db = database.copy()\n",
    "print('Copy:', db)\n",
    "new = {'alphabet': {'a': 2, 'c': 3}, 'numbers': {'1': 1, '2': 2}}\n",
    "print('New addition:', new)\n",
    "db.patch(new)\n",
    "print('Patched:', db)"
   ]
  },
  {
   "cell_type": "markdown",
   "metadata": {},
   "source": [
    "Since the new addition only contains one field ('c' in the 'alphabet' subdict) which overlaps with the database, this is the only value that is updated. \n",
    "\n",
    "The put() method lets us update existing fields _as well as_ adding new fields. Let's try it out on a fresh copy:\n",
    "\n"
   ]
  },
  {
   "cell_type": "code",
   "execution_count": 5,
   "metadata": {},
   "outputs": [
    {
     "name": "stdout",
     "output_type": "stream",
     "text": [
      "Put: {'alphabet': {'a': 2, 'b': 2, 'z': 26, 'c': 3}, 'numbers': {'1': 1, '2': 2}}\n"
     ]
    }
   ],
   "source": [
    "db = database.copy()\n",
    "db.put(new)\n",
    "print('Put:', db.as_dict())"
   ]
  },
  {
   "cell_type": "markdown",
   "metadata": {},
   "source": [
    "The reduce() method allows us to get a version of the database containing only the specified endpoint. For instance, suppose we have a database specifying the state and min/max range of all knobs:"
   ]
  },
  {
   "cell_type": "code",
   "execution_count": 13,
   "metadata": {},
   "outputs": [],
   "source": [
    "database = DataDict({'hub': {'thing1': {'X': {'state': 2.718, 'min': 0, 'max': 5},\n",
    "                                      'Y': {'state': 3.14, 'min': 3, 'max': 4}\n",
    "                                      },\n",
    "                             'thing2': {'u': {'state': 42, 'min': 40, 'max': 50}}\n",
    "                           }\n",
    "                   }\n",
    "                  )"
   ]
  },
  {
   "cell_type": "markdown",
   "metadata": {},
   "source": [
    "We can use the find() method to extract only the parts referring to state:"
   ]
  },
  {
   "cell_type": "code",
   "execution_count": 14,
   "metadata": {},
   "outputs": [
    {
     "name": "stdout",
     "output_type": "stream",
     "text": [
      "DataDict([('hub', {'thing1': {'X': 2.718, 'Y': 3.14}, 'thing2': {'u': 42}})])\n"
     ]
    }
   ],
   "source": [
    "state = database.find('state')\n",
    "print(state)"
   ]
  },
  {
   "cell_type": "markdown",
   "metadata": {},
   "source": [
    "<div class=\"alert alert-block alert-danger\">\n",
    "Warning: find() may produce unexpected results if the same dict key exists across different levels of nesting!\n",
    "</div>\n",
    "\n",
    "The get() method is left the same as in the usual dict class, allowing objects at various levels to be accessed through iterative get() calls:"
   ]
  },
  {
   "cell_type": "code",
   "execution_count": 12,
   "metadata": {},
   "outputs": [
    {
     "name": "stdout",
     "output_type": "stream",
     "text": [
      "{'thing1': {'X': {'state': 2.718, 'min': 0, 'max': 5}, 'Y': {'state': 3.14, 'min': 3, 'max': 4}}, 'thing2': {'u': {'state': 42, 'min': 40, 'max': 50}}}\n",
      "2.718\n"
     ]
    }
   ],
   "source": [
    "print(database.get('hub'))\n",
    "print(database.get('hub').get('thing1').get('X').get('state'))"
   ]
  },
  {
   "cell_type": "code",
   "execution_count": null,
   "metadata": {},
   "outputs": [],
   "source": []
  }
 ],
 "metadata": {
  "kernelspec": {
   "display_name": "Python 3",
   "language": "python",
   "name": "python3"
  },
  "language_info": {
   "codemirror_mode": {
    "name": "ipython",
    "version": 3
   },
   "file_extension": ".py",
   "mimetype": "text/x-python",
   "name": "python",
   "nbconvert_exporter": "python",
   "pygments_lexer": "ipython3",
   "version": "3.7.0"
  }
 },
 "nbformat": 4,
 "nbformat_minor": 2
}
