{
 "cells": [
  {
   "cell_type": "markdown",
   "metadata": {},
   "source": [
    "# Introduction"
   ]
  },
  {
   "cell_type": "code",
   "execution_count": 1,
   "metadata": {},
   "outputs": [
    {
     "name": "stdout",
     "output_type": "stream",
     "text": [
      "/Users/robbiefasano/emergent/emergent\n",
      "Overwriting /Users/robbiefasano/emergent/emergent/networks/test/things/test_thing.py\n",
      "Overwriting /Users/robbiefasano/emergent/emergent/networks/test/hubs/test_hub.py\n",
      "Overwriting /Users/robbiefasano/emergent/emergent/networks/test/network.py\n",
      "DataDict([('thing', {'X': None, 'Y': None})])\n",
      "New state: DataDict([('thing', {'X': 1, 'Y': 2})])\n",
      " * Serving Flask app \"emergent.API.API\" (lazy loading)\n",
      " * Environment: production\n",
      "   WARNING: Do not use the development server in a production environment.\n",
      "   Use a production WSGI server instead.\n",
      " * Debug mode: off\n",
      "EMERGENT API\n"
     ]
    }
   ],
   "source": [
    "%run \"./Getting started.ipynb\"\n",
    "import requests\n",
    "base_url = 'http://localhost:5000'\n",
    "while True:\n",
    "    try:\n",
    "        r=requests.get(base_url)\n",
    "        if r.text == 'EMERGENT API':\n",
    "            break\n",
    "    except:\n",
    "        continue\n",
    "print(r.text)"
   ]
  },
  {
   "cell_type": "markdown",
   "metadata": {},
   "source": [
    "In order to start a process, we POST a settings dictionary to the /run endpoint containing all of the info necessary to define the process. All of the following is handled much simpler by the GUI, but this tutorial demonstrates the exact steps required to manually launch an optimization through the API. Let's construct a command for a grid search optimization of the \"gaussian\" experiment attached to our hub:"
   ]
  },
  {
   "cell_type": "code",
   "execution_count": 2,
   "metadata": {},
   "outputs": [],
   "source": [
    "hub = network.hubs['hub']\n",
    "hub.range['thing'] = {'X': {'min': -2, 'max': 2}, 'Y': {'min': -2, 'max': 2}}\n",
    "thing = hub.children['thing']\n",
    "state = {'thing': thing.state}\n",
    "settings = {'hub': hub.name, 'state': state}\n",
    "\n",
    "settings['experiment'] = {'name': 'gaussian',\n",
    "                          'params': {'sigma_x': 0.3, \n",
    "                                     'sigma_y': 0.8, \n",
    "                                     'x0': 0.3, \n",
    "                                     'y0': 0.6, \n",
    "                                     'noise':0} }\n",
    "settings['sampler'] = {'name': 'Grid',\n",
    "                       'params': {'Steps': 20, 'Sweeps': 1} }\n",
    "\n",
    "settings['process'] = {'type': 'model', 'end at': 'Best point', 'callback': None}"
   ]
  },
  {
   "cell_type": "markdown",
   "metadata": {},
   "source": [
    "Now let's submit this process via the API:"
   ]
  },
  {
   "cell_type": "code",
   "execution_count": null,
   "metadata": {},
   "outputs": [],
   "source": [
    "import requests\n",
    "requests.post('http://127.0.0.1:5000/run', json=settings)"
   ]
  },
  {
   "cell_type": "code",
   "execution_count": null,
   "metadata": {},
   "outputs": [],
   "source": [
    "import requests\n",
    "samplers = requests.get('http://127.0.0.1:5000/hubs/hub/samplers').json()\n",
    "requests.get('http://127.0.0.1:5000/hubs/hub/samplers/%s/plot/data'%samplers[0])"
   ]
  },
  {
   "cell_type": "markdown",
   "metadata": {},
   "source": [
    "Instead of calling an optimization through the API, let's construct it explicitly:"
   ]
  },
  {
   "cell_type": "code",
   "execution_count": null,
   "metadata": {},
   "outputs": [],
   "source": [
    "from emergent.API.blueprints.rpc import prepare_sampler\n",
    "sampler = prepare_sampler(settings, network)\n",
    "sampler._solve()"
   ]
  },
  {
   "cell_type": "markdown",
   "metadata": {},
   "source": [
    "It's also possible to chain multiple optimizations together:"
   ]
  },
  {
   "cell_type": "code",
   "execution_count": null,
   "metadata": {},
   "outputs": [],
   "source": [
    "from copy import deepcopy\n",
    "from emergent.API.blueprints.rpc import prepare_sampler\n",
    "\n",
    "coarse_settings = deepcopy(settings)\n",
    "coarse_settings['sampler']['params']['Steps']=5\n",
    "coarse_sampler = prepare_sampler(coarse_settings, network)\n",
    "\n",
    "fine_settings = deepcopy(settings)\n",
    "fine_settings['sampler']['params']['Steps']=30\n",
    "fine_sampler = prepare_sampler(fine_settings, network)\n",
    "\n",
    "points, costs = coarse_sampler._solve()\n",
    "points2, costs2 = fine_sampler._solve()\n"
   ]
  },
  {
   "cell_type": "markdown",
   "metadata": {},
   "source": [
    "We could define a class to help us manage these successive processes:"
   ]
  },
  {
   "cell_type": "code",
   "execution_count": 17,
   "metadata": {},
   "outputs": [
    {
     "name": "stderr",
     "output_type": "stream",
     "text": [
      "INFO:root:Optimization complete!\n",
      "INFO:root:Optimization complete!\n"
     ]
    }
   ],
   "source": [
    "import numpy as np\n",
    "\n",
    "class Pipeline:\n",
    "    def __init__(self):\n",
    "        self._points = []\n",
    "        self._costs = []\n",
    "        self.points = np.empty((0,2))\n",
    "        self.costs = []\n",
    "        self.processes = []\n",
    "        self.models = []\n",
    "        \n",
    "    def add_process(self, process):\n",
    "        self.processes.append(process)\n",
    "        \n",
    "    def add_model(self, model):\n",
    "        self.models.append(model)\n",
    "        \n",
    "    def run_all(self):\n",
    "        for process in self.processes:\n",
    "            points, costs = process()\n",
    "            self._points.append(points)\n",
    "            self._costs.append(costs)\n",
    "            self.points = np.append(self.points, points, axis=0)\n",
    "            self.costs = np.append(self.costs, costs)\n",
    "            \n",
    "        for model in self.models:\n",
    "            model.fit(self.points, self.costs)\n",
    "      \n",
    "    \n",
    "from copy import deepcopy\n",
    "from emergent.API.blueprints.rpc import prepare_sampler\n",
    "\n",
    "\n",
    "settings['sampler']['params']['Steps']=5\n",
    "coarse_sampler = prepare_sampler(settings, network)\n",
    "\n",
    "settings['sampler']['params']['Steps']=30\n",
    "fine_sampler = prepare_sampler(settings, network)\n",
    "\n",
    "from emergent.models.nonlinear import Nonlinear\n",
    "model = Nonlinear()\n",
    "model.prepare(fine_sampler)\n",
    "\n",
    "p = Pipeline()\n",
    "p.add_process(coarse_sampler._solve)\n",
    "p.add_model(model)\n",
    "p.add_process(fine_sampler._solve)\n",
    "\n",
    "p.run_all()"
   ]
  },
  {
   "cell_type": "code",
   "execution_count": 18,
   "metadata": {},
   "outputs": [
    {
     "data": {
      "text/plain": [
       "(array([-7.6895334e-31]), 0)"
      ]
     },
     "execution_count": 18,
     "metadata": {},
     "output_type": "execute_result"
    }
   ],
   "source": [
    "model.predict([[0,0]])"
   ]
  },
  {
   "cell_type": "code",
   "execution_count": 10,
   "metadata": {},
   "outputs": [
    {
     "data": {
      "text/plain": [
       "array([0, 1, 0, 2, 0, 1, 0, 2])"
      ]
     },
     "execution_count": 10,
     "metadata": {},
     "output_type": "execute_result"
    }
   ],
   "source": []
  },
  {
   "cell_type": "code",
   "execution_count": 16,
   "metadata": {},
   "outputs": [
    {
     "data": {
      "text/plain": [
       "array([], shape=(0, 2), dtype=float64)"
      ]
     },
     "execution_count": 16,
     "metadata": {},
     "output_type": "execute_result"
    }
   ],
   "source": []
  },
  {
   "cell_type": "code",
   "execution_count": null,
   "metadata": {},
   "outputs": [],
   "source": []
  }
 ],
 "metadata": {
  "kernelspec": {
   "display_name": "Python 3",
   "language": "python",
   "name": "python3"
  },
  "language_info": {
   "codemirror_mode": {
    "name": "ipython",
    "version": 3
   },
   "file_extension": ".py",
   "mimetype": "text/x-python",
   "name": "python",
   "nbconvert_exporter": "python",
   "pygments_lexer": "ipython3",
   "version": "3.7.1"
  }
 },
 "nbformat": 4,
 "nbformat_minor": 2
}
