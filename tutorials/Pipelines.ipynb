{
 "cells": [
  {
   "cell_type": "markdown",
   "metadata": {},
   "source": [
    "# Introduction"
   ]
  },
  {
   "cell_type": "code",
   "execution_count": null,
   "metadata": {},
   "outputs": [],
   "source": [
    "%run \"./Getting started.ipynb\"\n",
    "import requests\n",
    "base_url = 'http://localhost:6000'\n",
    "while True:\n",
    "    try:\n",
    "        r=requests.get(base_url)\n",
    "        if r.text == 'EMERGENT API':\n",
    "            break\n",
    "    except:\n",
    "        continue\n",
    "print(r.text)"
   ]
  },
  {
   "cell_type": "markdown",
   "metadata": {},
   "source": [
    "We can run successive optimizations; for example, let's run a two-stage grid search, starting with a coarse search to acquire signal followed by a finer search. To finish, we'll fit a Gaussian model to the results."
   ]
  },
  {
   "cell_type": "code",
   "execution_count": null,
   "metadata": {},
   "outputs": [],
   "source": [
    "import numpy as np\n",
    "from emergent.pipeline import Pipeline, Source, GridSearch, GaussianModel, Rescale \n",
    "            \n",
    "''' Define data source '''\n",
    "hub = network.hubs['hub']\n",
    "thing = hub.children['thing']\n",
    "state = {'thing': thing.state}\n",
    "bounds = hub.range.copy()\n",
    "experiment = hub.gaussian\n",
    "params = {'sigma_x': 0.3, 'sigma_y': 0.8, 'x0': 0.3, 'y0': 0.6, 'noise':0.0}\n",
    "source = Source(state, bounds, experiment, params)\n",
    "\n",
    "''' Declare and run pipeline.  '''\n",
    "pipe = Pipeline(state, source)\n",
    "\n",
    "pipe.add(GridSearch(params={'Steps': 5}))\n",
    "pipe.add(Rescale(threshold=0.5))\n",
    "pipe.add(GridSearch(params={'Steps':30}))\n",
    "pipe.add(GaussianModel(optimizer = GridSearch(params={'Steps': 30})))\n",
    "\n",
    "points, costs = pipe.run()\n",
    "\n",
    "print(points[-1], costs[-1])\n",
    "print('done')\n"
   ]
  },
  {
   "cell_type": "code",
   "execution_count": null,
   "metadata": {},
   "outputs": [],
   "source": []
  }
 ],
 "metadata": {
  "kernelspec": {
   "display_name": "Python 3",
   "language": "python",
   "name": "python3"
  },
  "language_info": {
   "codemirror_mode": {
    "name": "ipython",
    "version": 3
   },
   "file_extension": ".py",
   "mimetype": "text/x-python",
   "name": "python",
   "nbconvert_exporter": "python",
   "pygments_lexer": "ipython3",
   "version": "3.7.0"
  }
 },
 "nbformat": 4,
 "nbformat_minor": 2
}
