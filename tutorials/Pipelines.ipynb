{
 "cells": [
  {
   "cell_type": "markdown",
   "metadata": {},
   "source": [
    "# Pipelines"
   ]
  },
  {
   "cell_type": "code",
   "execution_count": 1,
   "metadata": {},
   "outputs": [
    {
     "name": "stdout",
     "output_type": "stream",
     "text": [
      "/Users/robbiefasano/emergent/emergent\n",
      "Overwriting /Users/robbiefasano/emergent/emergent/networks/test/things/test_thing.py\n",
      "Overwriting /Users/robbiefasano/emergent/emergent/networks/test/hubs/test_hub.py\n",
      "Overwriting /Users/robbiefasano/emergent/emergent/networks/test/network.py\n",
      "DataDict([('thing', {'X': None, 'Y': None})])\n",
      "New state: DataDict([('thing', {'X': 1, 'Y': 2})])\n",
      " * Serving Flask app \"emergent.API.API\" (lazy loading)\n",
      " * Environment: production\n",
      "   WARNING: Do not use the development server in a production environment.\n",
      "   Use a production WSGI server instead.\n",
      " * Debug mode: off\n",
      "EMERGENT API\n"
     ]
    }
   ],
   "source": [
    "%run \"./Getting started.ipynb\"\n",
    "import requests\n",
    "base_url = 'http://localhost:6000'\n",
    "while True:\n",
    "    try:\n",
    "        r=requests.get(base_url)\n",
    "        if r.text == 'EMERGENT API':\n",
    "            break\n",
    "    except:\n",
    "        continue\n",
    "print(r.text)"
   ]
  },
  {
   "cell_type": "markdown",
   "metadata": {},
   "source": [
    "The Pipeline class allows us to combine multiple optimization processes into a single process. For example, we could do a coarse grid search to obtain an initial signal, then shrink the bounds to enclose the signal and sample with higher resolution, then finally fit all observed data to a model which predicts the location of the maximum:"
   ]
  },
  {
   "cell_type": "code",
   "execution_count": 5,
   "metadata": {},
   "outputs": [
    {
     "name": "stderr",
     "output_type": "stream",
     "text": [
      "WARNING:root:GradientDescent optimizer does not support bounds!\n"
     ]
    },
    {
     "data": {
      "image/png": "[encoded data removed]",
      "text/plain": [
       "<Figure size 432x288 with 1 Axes>"
      ]
     },
     "metadata": {
      "needs_background": "light"
     },
     "output_type": "display_data"
    },
    {
     "name": "stdout",
     "output_type": "stream",
     "text": [
      "[0.2978934  0.61479629] -0.999608689562411\n",
      "done\n"
     ]
    }
   ],
   "source": [
    "import numpy as np\n",
    "from emergent.pipeline import (Pipeline, Source, GridSearch, GaussianModel, Rescale, DifferentialEvolution, \n",
    "                              ParticleSwarm, GaussianProcess, GradientDescent, Adam, LBFGSB)\n",
    "from emergent.utilities.containers import DataDict\n",
    "\n",
    "''' Define data source '''\n",
    "hub = network.hubs['hub']\n",
    "hub.range = DataDict({'thing': {'X': {'min': 0, 'max': 1}, 'Y': {'min': 0, 'max': 1}}})\n",
    "thing = hub.children['thing']\n",
    "state = {'thing': {'X': 0, 'Y': 1}}\n",
    "bounds = hub.range.copy()\n",
    "experiment = hub.gaussian\n",
    "params = {'sigma_x': 0.3, 'sigma_y': 0.8, 'x0': 0.3, 'y0': 0.6, 'noise':0.0}\n",
    "source = Source(state, bounds, experiment, params)\n",
    "\n",
    "''' Declare and run pipeline.  Allowed blocks are:\n",
    "    Sampling methods: GridSearch, DifferentialEvolution, ParticleSwarm\n",
    "    Models: GaussianModel\n",
    "    Other: Rescale '''\n",
    "pipe = Pipeline(state, source)\n",
    "\n",
    "# pipe.add(LBFGSB())\n",
    "# pipe.add(GridSearch(params={'Steps': 5}))\n",
    "# pipe.add(Rescale(threshold=0.75))\n",
    "\n",
    "pipe.add(Adam())\n",
    "\n",
    "# pipe.add(GridSearch(params={'Steps':10}))\n",
    "# pipe.add(GaussianProcess(optimizer = DifferentialEvolution()))\n",
    "\n",
    "\n",
    "\n",
    "\n",
    "points, costs = pipe.run()\n",
    "pipe.plot()\n",
    "print(points[-1], costs[-1])\n",
    "print('done')\n"
   ]
  },
  {
   "cell_type": "code",
   "execution_count": null,
   "metadata": {},
   "outputs": [],
   "source": []
  },
  {
   "cell_type": "code",
   "execution_count": null,
   "metadata": {},
   "outputs": [],
   "source": [
    "pipe.blocks[0].plot()\n"
   ]
  },
  {
   "cell_type": "code",
   "execution_count": null,
   "metadata": {},
   "outputs": [],
   "source": [
    "pipe.list_optimizers()"
   ]
  },
  {
   "cell_type": "code",
   "execution_count": null,
   "metadata": {},
   "outputs": [],
   "source": []
  }
 ],
 "metadata": {
  "kernelspec": {
   "display_name": "Python 3",
   "language": "python",
   "name": "python3"
  },
  "language_info": {
   "codemirror_mode": {
    "name": "ipython",
    "version": 3
   },
   "file_extension": ".py",
   "mimetype": "text/x-python",
   "name": "python",
   "nbconvert_exporter": "python",
   "pygments_lexer": "ipython3",
   "version": "3.7.1"
  }
 },
 "nbformat": 4,
 "nbformat_minor": 2
}
