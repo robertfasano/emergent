{
 "cells": [
  {
   "cell_type": "markdown",
   "metadata": {},
   "source": [
    "# Pipelines"
   ]
  },
  {
   "cell_type": "code",
   "execution_count": 1,
   "metadata": {},
   "outputs": [
    {
     "name": "stdout",
     "output_type": "stream",
     "text": [
      "C:\\emergent\\emergent\n",
      "Overwriting C:\\emergent/emergent/networks/test/things/test_thing.py\n",
      "Overwriting C:\\emergent/emergent/networks/test/hubs/test_hub.py\n",
      "Overwriting C:\\emergent/emergent/networks/test/network.py\n",
      "DataDict([('thing', {'X': None, 'Y': None})])\n",
      "New state: DataDict([('thing', {'X': 1, 'Y': 2})])\n",
      " * Serving Flask app \"emergent.API.API\" (lazy loading)\n",
      " * Environment: production\n",
      "   WARNING: Do not use the development server in a production environment.\n",
      "   Use a production WSGI server instead.\n",
      " * Debug mode: off\n",
      "EMERGENT API\n"
     ]
    }
   ],
   "source": [
    "%run \"./Getting started.ipynb\"\n",
    "import requests\n",
    "base_url = 'http://localhost:6000'\n",
    "while True:\n",
    "    try:\n",
    "        r=requests.get(base_url)\n",
    "        if r.text == 'EMERGENT API':\n",
    "            break\n",
    "    except:\n",
    "        continue\n",
    "print(r.text)"
   ]
  },
  {
   "cell_type": "markdown",
   "metadata": {},
   "source": [
    "The Pipeline class allows us to combine multiple optimization processes into a single process. For example, we could do a coarse grid search to obtain an initial signal, then shrink the bounds to enclose the signal and sample with higher resolution, then finally fit all observed data to a model which predicts the location of the maximum:"
   ]
  },
  {
   "cell_type": "code",
   "execution_count": 10,
   "metadata": {},
   "outputs": [
    {
     "name": "stdout",
     "output_type": "stream",
     "text": [
      "[0.30172414 0.5862069 ] -0.9996697599184603\n",
      "done\n"
     ]
    }
   ],
   "source": [
    "import numpy as np\n",
    "from emergent.pipeline import Pipeline, Source, GridSearch, GaussianModel, Rescale, DifferentialEvolution\n",
    "from emergent.utilities.containers import DataDict\n",
    "\n",
    "''' Define data source '''\n",
    "hub = network.hubs['hub']\n",
    "hub.range = DataDict({'thing': {'X': {'min': 0, 'max': 1}, 'Y': {'min': 0, 'max': 1}}})\n",
    "thing = hub.children['thing']\n",
    "state = {'thing': thing.state}\n",
    "bounds = hub.range.copy()\n",
    "experiment = hub.gaussian\n",
    "params = {'sigma_x': 0.3, 'sigma_y': 0.8, 'x0': 0.3, 'y0': 0.6, 'noise':0.0}\n",
    "source = Source(state, bounds, experiment, params)\n",
    "\n",
    "''' Declare and run pipeline.  '''\n",
    "pipe = Pipeline(state, source)\n",
    "\n",
    "pipe.add(GridSearch(params={'Steps': 5}))\n",
    "pipe.add(Rescale(threshold=0.5))\n",
    "pipe.add(GridSearch(params={'Steps':30}))\n",
    "# pipe.add(DifferentialEvolution())\n",
    "pipe.add(GaussianModel(optimizer = DifferentialEvolution()))\n",
    "\n",
    "# pipe.add(GaussianModel(optimizer = GridSearch(params={'Steps': 30})))\n",
    "\n",
    "points, costs = pipe.run()\n",
    "\n",
    "print(points[-1], costs[-1])\n",
    "print('done')\n"
   ]
  },
  {
   "cell_type": "code",
   "execution_count": 3,
   "metadata": {},
   "outputs": [
    {
     "data": {
      "text/plain": [
       "array([[0.        , 0.        ],\n",
       "       [0.        , 0.25      ],\n",
       "       [0.        , 0.5       ],\n",
       "       [0.        , 0.75      ],\n",
       "       [0.        , 1.        ],\n",
       "       [0.25      , 0.        ],\n",
       "       [0.25      , 0.25      ],\n",
       "       [0.25      , 0.5       ],\n",
       "       [0.25      , 0.75      ],\n",
       "       [0.25      , 1.        ],\n",
       "       [0.5       , 0.        ],\n",
       "       [0.5       , 0.25      ],\n",
       "       [0.5       , 0.5       ],\n",
       "       [0.5       , 0.75      ],\n",
       "       [0.5       , 1.        ],\n",
       "       [0.75      , 0.        ],\n",
       "       [0.75      , 0.25      ],\n",
       "       [0.75      , 0.5       ],\n",
       "       [0.75      , 0.75      ],\n",
       "       [0.75      , 1.        ],\n",
       "       [1.        , 0.        ],\n",
       "       [1.        , 0.25      ],\n",
       "       [1.        , 0.5       ],\n",
       "       [1.        , 0.75      ],\n",
       "       [1.        , 1.        ],\n",
       "       [0.29999999, 0.60000002],\n",
       "       [0.29999999, 0.60000002]])"
      ]
     },
     "execution_count": 3,
     "metadata": {},
     "output_type": "execute_result"
    }
   ],
   "source": [
    "pipe.points"
   ]
  },
  {
   "cell_type": "code",
   "execution_count": null,
   "metadata": {},
   "outputs": [],
   "source": []
  }
 ],
 "metadata": {
  "kernelspec": {
   "display_name": "Python 3",
   "language": "python",
   "name": "python3"
  },
  "language_info": {
   "codemirror_mode": {
    "name": "ipython",
    "version": 3
   },
   "file_extension": ".py",
   "mimetype": "text/x-python",
   "name": "python",
   "nbconvert_exporter": "python",
   "pygments_lexer": "ipython3",
   "version": "3.6.6"
  }
 },
 "nbformat": 4,
 "nbformat_minor": 2
}
