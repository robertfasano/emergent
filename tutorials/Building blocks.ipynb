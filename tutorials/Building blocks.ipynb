{
 "cells": [
  {
   "cell_type": "markdown",
   "metadata": {},
   "source": [
    "In this notebook, we'll study Nodes - the basic building blocks of an EMERGENT network. These come in three flavors: Inputs, Things, and Hubs."
   ]
  },
  {
   "cell_type": "markdown",
   "metadata": {},
   "source": [
    "# Inputs"
   ]
  },
  {
   "cell_type": "markdown",
   "metadata": {},
   "source": [
    "An Input node is a virtual object representing a knob in your experiment - something that (potentially, but not necessarily) affects the experimental outcome. There's not much to say about this class: they're a software construct to keep track of the state of an experiment, but don't really do much else."
   ]
  },
  {
   "cell_type": "markdown",
   "metadata": {},
   "source": [
    "# Things"
   ]
  },
  {
   "cell_type": "markdown",
   "metadata": {},
   "source": [
    "If an Input node is a knob, then a Thing is the device to which that knob is attached. This could be a synthesizer, a laser, or just about anything else you could think of. The Thing class is your interface to controlling your devices; to add a new device under EMERGENT's control, just create a class inheriting from Thing and overriding the \\_connect() and \\_actuate() methods. Let's take a look at a very simple example of a Thing class controlling a Novatech 409b synthesizer:"
   ]
  },
  {
   "cell_type": "code",
   "execution_count": 2,
   "metadata": {},
   "outputs": [],
   "source": [
    "from emergent.things.novatech import Novatech\n",
    "Novatech??"
   ]
  },
  {
   "cell_type": "markdown",
   "metadata": {},
   "source": [
    "In the \\_connect() method, we use the emergent.protocols.serial module to open a connection to the device and return 1 if the connection succeeds. In the \\_actuate() method, we take a state dict containing one or both of the fields 'slowing' and 'trapping' (corresponding to the two inputs we defined in the __init__ method) and update the frequencies of the corresponding channels.\n",
    "\n",
    "<div class=\"alert alert-block alert-info\">\n",
    "Think of _actuate() as a translator between the manufacturer's control syntax and the standardized EMERGENT syntax. For example, a state dictionary {'trapping': 121} is converted to a serial command 'V1 121', setting channel 1 to 121 MHz. \n",
    "</div>\n",
    "\n",
    "Notice that we have defined several other methods for setting the amplitude of the output rf power and writing and running frequency sequences on the onboard wavetable. Feel free to add any additional methods you want beyond \\_actuate() and \\_connect() to your Thing subclasses, as long as they don't conflict with any methods defined in the base Thing class:"
   ]
  },
  {
   "cell_type": "code",
   "execution_count": 3,
   "metadata": {},
   "outputs": [],
   "source": [
    "from emergent.modules import Thing\n",
    "Thing??"
   ]
  },
  {
   "cell_type": "markdown",
   "metadata": {},
   "source": [
    "# Hubs"
   ]
  },
  {
   "cell_type": "markdown",
   "metadata": {},
   "source": [
    "The previous node types provide a convenient Internet of Things framework for controlling an experiment with many connected devices, but the real magic happens with the Hub class. A Hub is a collection of one or more Things along with experiment functions which (may or may not) depend on the state of the attached Things. By running experiments and distributing commands to turn virtual knobs on the Things, a Hub can learn about the parameter space underlying an experiment."
   ]
  },
  {
   "cell_type": "code",
   "execution_count": null,
   "metadata": {},
   "outputs": [],
   "source": []
  }
 ],
 "metadata": {
  "kernelspec": {
   "display_name": "Python 3",
   "language": "python",
   "name": "python3"
  },
  "language_info": {
   "codemirror_mode": {
    "name": "ipython",
    "version": 3
   },
   "file_extension": ".py",
   "mimetype": "text/x-python",
   "name": "python",
   "nbconvert_exporter": "python",
   "pygments_lexer": "ipython3",
   "version": "3.7.0"
  }
 },
 "nbformat": 4,
 "nbformat_minor": 2
}
