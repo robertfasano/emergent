{
 "cells": [
  {
   "cell_type": "markdown",
   "metadata": {},
   "source": [
    "# Introduction"
   ]
  },
  {
   "cell_type": "markdown",
   "metadata": {},
   "source": [
    "In this notebook, we'll learn how EMERGENT models parameter spaces and finds extrema. First, we'll study how EMERGENT chooses experimental data points to acquire, governed by the sampling method chosen by you, the user. Let's look at the base Sampling class:"
   ]
  },
  {
   "cell_type": "code",
   "execution_count": null,
   "metadata": {},
   "outputs": [],
   "source": [
    "from emergent.samplers.sampling import Sampling\n",
    "Sampling??"
   ]
  },
  {
   "cell_type": "markdown",
   "metadata": {},
   "source": [
    "In order to define a sampling method, you should override the \\_run() method, as we will look at shortly. For now, understand that this method simply executes a bunch of experiments and returns the points (parameter space coordinates) and costs (experimental results). After the data is acquired, the \\_finish() method allows a model to be fit to the data, then goes to either the first, last, or best point sampled. The Sampling class also implements a standardized plot() method which returns a handle to a 2D plot of the parameter space (currently only 2D spaces are supported)."
   ]
  },
  {
   "cell_type": "markdown",
   "metadata": {},
   "source": [
    "Now let's look at how to define a sampling method. Consider the Grid sampling class:"
   ]
  },
  {
   "cell_type": "code",
   "execution_count": null,
   "metadata": {},
   "outputs": [],
   "source": [
    "from emergent.samplers import Grid\n",
    "Grid??"
   ]
  },
  {
   "cell_type": "markdown",
   "metadata": {},
   "source": [
    "As we can see, defining new sampling methods is easy - just override the \\_run() method, then define any parameters you don't want to hard-code; these parameters will automatically appear in the GUI to be set before starting a run. In this case, the \\_run() method creates a uniform grid between 0 and 1 in _N_ dimensions, runs the experiment at each point, and returns the results.\n",
    "\n",
    "<div class=\"alert alert-block alert-warning\">\n",
    "Don't worry about the actual ranges - the sampling takes places in a normalized subspace from 0 to 1 along all coordinates, and EMERGENT automatically scales to the ranges defined by the Hub.range dictionary, also displayed in the GUI's network tree.\n",
    "</div>\n"
   ]
  },
  {
   "cell_type": "markdown",
   "metadata": {},
   "source": [
    "Grid sampling can be useful for exploring experiments with 1 or 2 knobs, but the number of iterations required grows exponentially in the number of dimensions. For experiments with many free parameters, we can sample more intelligently with the _online_ sampling method:"
   ]
  },
  {
   "cell_type": "code",
   "execution_count": null,
   "metadata": {},
   "outputs": [],
   "source": [
    "from emergent.samplers import Online\n",
    "Online??"
   ]
  },
  {
   "cell_type": "markdown",
   "metadata": {},
   "source": [
    "The basic idea is that we attach a model to the sampling process - this could be based on physical intuition or just a general modeler like a Gaussian process. The sampling proceeds as follows:\n",
    "\n",
    "1. Pre-sample some number of randomly generated points.\n",
    "2. Fit the model to all acquired data.\n",
    "3. Numerically minimize the _effective cost_ over the modeled surface to choose the next point.\n",
    "4. Repeat step 3 for each point in a batch, then return to step 2, and repeat.\n",
    "\n",
    "The _effective cost_ is the magic bullet that makes this work so well. Instead of sampling uniformly, we sample intelligently, using all of the knowledge gathered about the experiment to suggest the next point. But what function should we use for the effective cost? A good first guess is the amplitude of the parameter surface itself, i.e. seeking extrema where the signal-to-noise is high. However, if your model can also generate an uncertainty estimate for a point, then it works well to optimize some linear combination of the amplitude and the uncertainty. By iterating through various combinations, we can go from optimizer mode (seeking low amplitude) and explorer mode (seeking high uncertainty), refining the model very quickly.\n",
    "\n",
    "Let's now examine how models are implemented in EMERGENT, starting with the base Model class:"
   ]
  },
  {
   "cell_type": "code",
   "execution_count": null,
   "metadata": {},
   "outputs": [],
   "source": [
    "from emergent.models.model import Model\n",
    "Model??"
   ]
  },
  {
   "cell_type": "markdown",
   "metadata": {},
   "source": [
    "When defining a model, you should override the fit() and predict() methods. The former should fit the model based on all acquired data so far, while the latter should generate a prediction of the experimental result (and possibly the uncertainty) at a given state dictionary. The Model class implements a number of other functions too, including generation of the next_sample() in terms of the explorer/optimizer tradeoff _b_ and the ability to plot() the modeled parameter surface in 2D.\n",
    "\n",
    "Now let's look at a specific implementation of a model, Gaussian process regression:"
   ]
  },
  {
   "cell_type": "code",
   "execution_count": null,
   "metadata": {},
   "outputs": [],
   "source": [
    "from emergent.models import GaussianProcess\n",
    "GaussianProcess??"
   ]
  },
  {
   "cell_type": "markdown",
   "metadata": {},
   "source": [
    "Just as with defining a Sampling subclass, it is very simple to define a new model. In this case, we initialize a regressor in the __init__ method, then override the Model.fit() and Model.predict() methods with the specific syntax required for the GaussianProcessRegressor class imported from scikit-learn."
   ]
  },
  {
   "cell_type": "markdown",
   "metadata": {},
   "source": [
    "# Running an optimization\n",
    "Now let's try actually running an optimization! First, initialize a demo network by running the Getting Started notebook:"
   ]
  },
  {
   "cell_type": "code",
   "execution_count": 1,
   "metadata": {},
   "outputs": [
    {
     "name": "stdout",
     "output_type": "stream",
     "text": [
      "C:\\emergent\\emergent\n",
      "Overwriting networks/test/things/test_thing.py\n",
      "Overwriting networks/test/hubs/test_hub.py\n",
      "Overwriting networks/test/network.py\n",
      "Actuating to {'X': 1, 'Y': 2}\n",
      "DataDict([('thing', {'X': 1, 'Y': 2})])\n",
      "Actuating to {'X': 1, 'Y': 2}\n",
      "New state: DataDict([('thing', {'X': 1, 'Y': 2})])\n",
      " * Serving Flask app \"emergent.modules.webAPI\" (lazy loading)\n",
      " * Environment: production\n",
      "   WARNING: Do not use the development server in a production environment.\n",
      "   Use a production WSGI server instead.\n",
      " * Debug mode: off\n"
     ]
    },
    {
     "name": "stderr",
     "output_type": "stream",
     "text": [
      "INFO:werkzeug: * Running on http://127.0.0.1:5000/ (Press CTRL+C to quit)\n"
     ]
    }
   ],
   "source": [
    "%run \"./Getting started.ipynb\""
   ]
  },
  {
   "cell_type": "markdown",
   "metadata": {},
   "source": [
    "In order to start a process, we POST a settings dictionary to the /run endpoint containing all of the info necessary to define the process. All of the following is handled much simpler by the GUI, but this tutorial demonstrates the exact steps required to manually launch an optimization through the API. Let's construct a command for a grid search optimization of the \"gaussian\" experiment attached to our hub:"
   ]
  },
  {
   "cell_type": "code",
   "execution_count": 2,
   "metadata": {},
   "outputs": [],
   "source": [
    "hub = network.hubs['hub']\n",
    "settings = {'hub': hub.name, 'state': hub.state}\n",
    "settings['experiment'] = {'name': 'gaussian',\n",
    "                          'params': {'sigma_x': 0.3, \n",
    "                                     'sigma_y': 0.8, \n",
    "                                     'x0': 0.3, \n",
    "                                     'y0': 0.6, \n",
    "                                     'noise':0, \n",
    "                                     'delay': 0.5} }\n",
    "settings['sampler'] = {'name': 'Grid',\n",
    "                       'params': {'Steps': 20, 'Sweeps': 1} }\n",
    "\n",
    "settings['process'] = {'type': 'model', 'end at': 'Best point', 'callback': None}"
   ]
  },
  {
   "cell_type": "markdown",
   "metadata": {},
   "source": [
    "Now let's submit this process via the API:"
   ]
  },
  {
   "cell_type": "code",
   "execution_count": null,
   "metadata": {},
   "outputs": [],
   "source": [
    "import requests\n",
    "requests.post('http://127.0.0.1:5000/run', json=settings)"
   ]
  },
  {
   "cell_type": "markdown",
   "metadata": {},
   "source": [
    "Because we specified the Grid sampler with 20 steps, the optimization was a crude brute force search on a 20x20 grid, converging to near the peak after 400 experimental cycles. We could solve this problem more efficiently with online Gaussian process optimization:"
   ]
  },
  {
   "cell_type": "code",
   "execution_count": 7,
   "metadata": {},
   "outputs": [],
   "source": [
    "hub = network.hubs['hub']\n",
    "settings = {'hub': hub.name, \n",
    "            'state': hub.state}\n",
    "settings['experiment'] = {'name': 'gaussian',\n",
    "                          'params': {'sigma_x': 0.3, \n",
    "                                     'sigma_y': 0.8, \n",
    "                                     'x0': 0.3, \n",
    "                                     'y0': 0.6, \n",
    "                                     'noise':0, \n",
    "                                     'delay': 0.5} }\n",
    "settings['sampler'] = {'name': 'Online',\n",
    "                       'params': {'Presampled points': 10, \n",
    "                                  'Iterations': 5,\n",
    "                                  'Batch size': 5,\n",
    "                                  'Tolerance': 0.01} }\n",
    "settings['model'] = {'name': 'GaussianProcess',\n",
    "                     'params': {'Amplitude': 1,\n",
    "                                'Length scale': 1,\n",
    "                                'Noise': 0} }\n",
    "\n",
    "settings['process'] = {'type': 'model', 'end at': 'Best point', 'callback': None}"
   ]
  },
  {
   "cell_type": "code",
   "execution_count": 8,
   "metadata": {},
   "outputs": [
    {
     "name": "stderr",
     "output_type": "stream",
     "text": [
      "INFO:werkzeug:127.0.0.1 - - [14/Mar/2019 17:48:31] \"POST /run HTTP/1.1\" 200 -\n"
     ]
    },
    {
     "name": "stdout",
     "output_type": "stream",
     "text": [
      "Actuating to {'X': 0.29999999697376073, 'Y': 0.6000000044122996}\n",
      "Actuating to {'X': 0.8956240624937795, 'Y': 0.24067041595477456}\n",
      "Actuating to {'X': 0.3356792696306593, 'Y': 0.3655153794754148}\n",
      "Actuating to {'X': 0.5476707666861723, 'Y': 0.20974577427488683}\n",
      "Actuating to {'X': 0.07613891050639332, 'Y': 0.5255688268215828}\n",
      "Actuating to {'X': 0.003710511532121763, 'Y': 0.14677280370169055}\n",
      "Actuating to {'X': 0.3659341444772364, 'Y': 0.4686807282865476}\n",
      "Actuating to"
     ]
    },
    {
     "data": {
      "text/plain": [
       "<Response [200]>"
      ]
     },
     "execution_count": 8,
     "metadata": {},
     "output_type": "execute_result"
    },
    {
     "name": "stdout",
     "output_type": "stream",
     "text": [
      " {'X': 0.6133663819039652, 'Y': 0.7009896339322805}\n",
      "Actuating to {'X': 0.3428477963174096, 'Y': 0.8480525525734}\n",
      "Actuating to {'X': 0.32956462162863054, 'Y': 0.809251407882458}\n",
      "Actuating to {'X': 0.15980863136744217, 'Y': 0.5061549435078785}\n",
      "Actuating to {'X': 0.04999999697376073, 'Y': 0.8500000044122996}\n",
      "Actuating to {'X': 0.04999999697376073, 'Y': 0.8500000044122996}\n",
      "Actuating to {'X': 0.04999999697376073, 'Y': 0.8500000044122996}\n",
      "Actuating to {'X': 0.04999999697376073, 'Y': 0.8500000044122996}\n",
      "Actuating to {'X': 0.04999999697376073, 'Y': 0.8500000044122996}\n",
      "Actuating to {'X': 0.3015065077408921, 'Y': 0.6189902015944494}\n",
      "Actuating to {'X': 0.5499999969737608, 'Y': 0.8500000044122996}\n",
      "Actuating to {'X': 0.5499999969737608, 'Y': 0.8500000044122996}\n",
      "Actuating to {'X': 0.22786359857835478, 'Y': 0.7153716928146138}\n",
      "Actuating to {'X': 0.2556063827379436, 'Y': 0.6847744522214495}\n",
      "Actuating to {'X': 0.3338082292259617, 'Y': 0.6385469100450547}\n",
      "Actuating to {'X': 0.3054322944395359, 'Y': 0.6182388848710201}\n"
     ]
    },
    {
     "name": "stderr",
     "output_type": "stream",
     "text": [
      "INFO:root:Optimization complete!\n"
     ]
    },
    {
     "name": "stdout",
     "output_type": "stream",
     "text": [
      "Actuating to {'X': 0.301233320439634, 'Y': 0.6064074099435781}\n"
     ]
    }
   ],
   "source": [
    "import requests\n",
    "requests.post('http://127.0.0.1:5000/run', json=settings)"
   ]
  },
  {
   "cell_type": "markdown",
   "metadata": {},
   "source": [
    "Now the model converged within 1% tolerance much quicker! However, we can do better than this: while Gaussian processes can model virtually any complex experimental parameter space, the training requires fitting many degrees of freedom. If we can restrict the degrees of freedom by suggesting a model that's close to the experimental landscape, we can vastly improve the training time:"
   ]
  },
  {
   "cell_type": "code",
   "execution_count": 10,
   "metadata": {},
   "outputs": [],
   "source": [
    "hub = network.hubs['hub']\n",
    "settings = {'hub': hub.name, \n",
    "            'state': hub.state}\n",
    "settings['experiment'] = {'name': 'gaussian',\n",
    "                          'params': {'sigma_x': 0.3, \n",
    "                                     'sigma_y': 0.8, \n",
    "                                     'x0': 0.3, \n",
    "                                     'y0': 0.6, \n",
    "                                     'noise':0, \n",
    "                                     'delay': 0.5} }\n",
    "settings['sampler'] = {'name': 'Online',\n",
    "                       'params': {'Presampled points': 20, \n",
    "                                  'Iterations': 5,\n",
    "                                  'Batch size': 5,\n",
    "                                  'Tolerance': 0.01} }\n",
    "settings['model'] = {'name': 'Nonlinear',\n",
    "                     'params': {'Leash': 0.25} }\n",
    "\n",
    "settings['process'] = {'type': 'model', 'end at': 'Best point', 'callback': None}"
   ]
  },
  {
   "cell_type": "code",
   "execution_count": 11,
   "metadata": {},
   "outputs": [
    {
     "name": "stderr",
     "output_type": "stream",
     "text": [
      "INFO:werkzeug:127.0.0.1 - - [14/Mar/2019 17:48:55] \"POST /run HTTP/1.1\" 200 -\n"
     ]
    },
    {
     "name": "stdout",
     "output_type": "stream",
     "text": [
      "Actuating to {'X': 0.301233320439634, 'Y': 0.6064074099435781}\n",
      "Actuating to {'X': 0.9041603247758776, 'Y': 0.4073759439553384}\n",
      "Actuating to {'X': 0.36116187193046667, 'Y': 0.9571807173191608}\n",
      "Actuating to {'X': 0.1779535247626478, 'Y': 0.4806483601322037}\n",
      "Actuating to"
     ]
    },
    {
     "data": {
      "text/plain": [
       "<Response [200]>"
      ]
     },
     "execution_count": 11,
     "metadata": {},
     "output_type": "execute_result"
    },
    {
     "name": "stdout",
     "output_type": "stream",
     "text": [
      " {'X': 0.1194912005164882, 'Y': 0.22683339309850337}\n",
      "Actuating to {'X': 0.3507746738990313, 'Y': 0.27430274869929083}\n",
      "Actuating to {'X': 0.4776350437235598, 'Y': 0.21263419072562573}\n",
      "Actuating to {'X': 0.40302530204921017, 'Y': 0.8421382181951389}\n",
      "Actuating to {'X': 0.6795838213208593, 'Y': 0.5418248920925846}\n",
      "Actuating to {'X': 0.12862842226993076, 'Y': 0.65618612770829}\n",
      "Actuating to {'X': 0.906361213301861, 'Y': 0.3359821457267923}\n",
      "Actuating to {'X': 0.8223258600264983, 'Y': 0.1317107195667665}\n",
      "Actuating to {'X': 0.36449963362952664, 'Y': 0.644575048400043}\n",
      "Actuating to {'X': 0.15664216486104976, 'Y': 0.855396043559703}\n",
      "Actuating to {'X': 0.6126022122085847, 'Y': 0.1169388122333822}\n",
      "Actuating to {'X': 0.851636588877546, 'Y': 0.9837574420472629}\n",
      "Actuating to {'X': 0.2133660911764962, 'Y': 0.692982868789233}\n",
      "Actuating to {'X': 0.8395109327063336, 'Y': 0.9998511971998124}\n",
      "Actuating to {'X': 0.9990189786050344, 'Y': 0.3767786315855468}\n",
      "Actuating to {'X': 0.6681132197432502, 'Y': 0.09766401575514005}\n",
      "Actuating to {'X': 0.5862735997991987, 'Y': 0.30182534254532756}\n",
      "[-1.   0.3  0.6  0.3  0.8]\n",
      "Actuating to {'X': 0.41260317966364596, 'Y': 0.4571594828395237}\n",
      "Actuating to {'X': 0.06090879292993778, 'Y': 0.5824276350230282}\n",
      "Actuating to {'X': 0.2560830053644487, 'Y': 0.6392640181182607}\n",
      "Actuating to {'X': 0.36327583779722167, 'Y': 0.7713568687291077}\n",
      "Actuating to {'X': 0.1433101764712325, 'Y': 0.5038260044641341}\n",
      "Actuating to {'X': 0.29999999544099715, 'Y': 0.599999995764996}\n",
      "[-1.   0.3  0.6  0.3  0.8]\n",
      "Actuating to {'X': 0.12047521792147885, 'Y': 0.38162462068230857}\n",
      "Actuating to {'X': 0.29999999524730037, 'Y': 0.5999999915281087}\n",
      "Actuating to {'X': 0.2999999928054416, 'Y': 0.5999999419728507}\n",
      "Actuating to {'X': 0.29999999655613846, 'Y': 0.5999999805001438}\n",
      "Actuating to {'X': 0.3000000024291791, 'Y': 0.6000000021004759}\n",
      "Actuating to {'X': 0.3000000000188994, 'Y': 0.6000000098247155}\n",
      "[-1.   0.3  0.6  0.3  0.8]\n"
     ]
    },
    {
     "name": "stderr",
     "output_type": "stream",
     "text": [
      "INFO:root:Optimization complete!\n"
     ]
    },
    {
     "name": "stdout",
     "output_type": "stream",
     "text": [
      "Actuating to {'X': 0.30000000419047324, 'Y': 0.5999999985073314}\n"
     ]
    }
   ],
   "source": [
    "import requests\n",
    "requests.post('http://127.0.0.1:5000/run', json=settings)"
   ]
  },
  {
   "cell_type": "markdown",
   "metadata": {},
   "source": [
    "Our targeted Gaussian model converged with fewer iterations and less computation time per training cycle than the more general Gaussian process model!"
   ]
  },
  {
   "cell_type": "markdown",
   "metadata": {},
   "source": [
    "# Visualizing results\n",
    "The results of the last two experiments can be accessed through the API. First, we find the process ID corresponding to the run we want to look at; these are listed in chronological order at the following endpoint:"
   ]
  },
  {
   "cell_type": "code",
   "execution_count": null,
   "metadata": {},
   "outputs": [],
   "source": [
    "import requests\n",
    "samplers = requests.get('http://127.0.0.1:5000/hubs/hub/samplers').json()"
   ]
  },
  {
   "cell_type": "markdown",
   "metadata": {},
   "source": [
    "Now let's plot the data acquired by the first sampler:"
   ]
  },
  {
   "cell_type": "code",
   "execution_count": null,
   "metadata": {},
   "outputs": [],
   "source": [
    "requests.get('http://127.0.0.1:5000/hubs/hub/samplers/%s/plot/data'%samplers[0])"
   ]
  },
  {
   "cell_type": "markdown",
   "metadata": {},
   "source": [
    "Since we specified a model to fit in the second process, we can plot not only the raw data but also the modeled surface through the following endpoint:"
   ]
  },
  {
   "cell_type": "code",
   "execution_count": null,
   "metadata": {},
   "outputs": [],
   "source": [
    "requests.get('http://127.0.0.1:5000/hubs/hub/samplers/%s/plot/model'%samplers[1])"
   ]
  },
  {
   "cell_type": "markdown",
   "metadata": {},
   "source": [
    "Notice that the parameter space is resolved with decent accuracy and high resolution in the second case, despite the fact that we didn't acquire as much experimental data! If you know the functional form of your experiment's parameter space, you should write a Model and use it to generate points with the Online sampler; if not, you can always use a black-box modeler like GaussianProcess."
   ]
  },
  {
   "cell_type": "code",
   "execution_count": null,
   "metadata": {},
   "outputs": [],
   "source": []
  }
 ],
 "metadata": {
  "kernelspec": {
   "display_name": "Python 3",
   "language": "python",
   "name": "python3"
  },
  "language_info": {
   "codemirror_mode": {
    "name": "ipython",
    "version": 3
   },
   "file_extension": ".py",
   "mimetype": "text/x-python",
   "name": "python",
   "nbconvert_exporter": "python",
   "pygments_lexer": "ipython3",
   "version": "3.7.0"
  }
 },
 "nbformat": 4,
 "nbformat_minor": 2
}
