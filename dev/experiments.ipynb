{
 "cells": [
  {
   "cell_type": "markdown",
   "metadata": {},
   "source": [
    "EMERGENT was originally designed to run experiments defined as simple functions. However, this turned out to be limiting in a few ways:\n",
    "* Saving and loading parameters relies on external methods not associated with the function\n",
    "* Only a single point is returned for optimization and other data acquired during the run is thrown away; often we want to save this data instead\n",
    "* Different experiment functions needed to be written for different post-processing methods, even if the experimental sequence is the same (e.g. returning the slope vs. the mean of a dataset)"
   ]
  },
  {
   "cell_type": "code",
   "execution_count": null,
   "metadata": {},
   "outputs": [],
   "source": [
    "from emergent.utilities.containers import Parameter\n",
    "from abc import abstractmethod\n",
    "\n",
    "class Experiment():\n",
    "    def __init__(self):\n",
    "        self.params = {}\n",
    "        \n",
    "    def save(self, filename):\n",
    "        ''' Save current parameters as the default value '''\n",
    "        return\n",
    "    \n",
    "    def load(self):\n",
    "        ''' Load parameters from file '''\n",
    "        return\n",
    "    \n",
    "    @abstractmethod\n",
    "    def run(self, state, params = {}):\n",
    "        ''' Execute a single shot and return a dataset '''\n",
    "        return \n",
    "    \n",
    "    def analyze(self, data):\n",
    "        ''' Process data acquired by run() into a single point of the merit function '''"
   ]
  }
 ],
 "metadata": {
  "kernelspec": {
   "display_name": "Python 3",
   "language": "python",
   "name": "python3"
  },
  "language_info": {
   "codemirror_mode": {
    "name": "ipython",
    "version": 3
   },
   "file_extension": ".py",
   "mimetype": "text/x-python",
   "name": "python",
   "nbconvert_exporter": "python",
   "pygments_lexer": "ipython3",
   "version": "3.7.1"
  },
  "toc": {
   "base_numbering": 1,
   "nav_menu": {},
   "number_sections": false,
   "sideBar": true,
   "skip_h1_title": false,
   "title_cell": "Table of Contents",
   "title_sidebar": "Contents",
   "toc_cell": false,
   "toc_position": {},
   "toc_section_display": true,
   "toc_window_display": false
  }
 },
 "nbformat": 4,
 "nbformat_minor": 2
}
