{
 "cells": [
  {
   "cell_type": "code",
   "execution_count": 83,
   "metadata": {},
   "outputs": [
    {
     "name": "stdout",
     "output_type": "stream",
     "text": [
      "Epoch 1/10\n",
      "1000/1000 [==============================] - 2s 2ms/step - loss: 0.1375 - mean_squared_error: 0.1375 - mean_absolute_error: 0.2888\n",
      "Epoch 2/10\n",
      "1000/1000 [==============================] - 1s 906us/step - loss: 0.0853 - mean_squared_error: 0.0853 - mean_absolute_error: 0.2380\n",
      "Epoch 3/10\n",
      "1000/1000 [==============================] - 1s 933us/step - loss: 0.0674 - mean_squared_error: 0.0674 - mean_absolute_error: 0.2068\n",
      "Epoch 4/10\n",
      "1000/1000 [==============================] - 1s 907us/step - loss: 0.0438 - mean_squared_error: 0.0438 - mean_absolute_error: 0.1450\n",
      "Epoch 5/10\n",
      "1000/1000 [==============================] - 1s 938us/step - loss: 0.0314 - mean_squared_error: 0.0314 - mean_absolute_error: 0.1142\n",
      "Epoch 6/10\n",
      "1000/1000 [==============================] - 1s 857us/step - loss: 0.0229 - mean_squared_error: 0.0229 - mean_absolute_error: 0.1011\n",
      "Epoch 7/10\n",
      "1000/1000 [==============================] - 1s 929us/step - loss: 0.0158 - mean_squared_error: 0.0158 - mean_absolute_error: 0.0787\n",
      "Epoch 8/10\n",
      "1000/1000 [==============================] - 1s 857us/step - loss: 0.0134 - mean_squared_error: 0.0134 - mean_absolute_error: 0.0701\n",
      "Epoch 9/10\n",
      "1000/1000 [==============================] - 1s 1ms/step - loss: 0.0101 - mean_squared_error: 0.0101 - mean_absolute_error: 0.0636\n",
      "Epoch 10/10\n",
      "1000/1000 [==============================] - 1s 887us/step - loss: 0.0096 - mean_squared_error: 0.0096 - mean_absolute_error: 0.0594\n"
     ]
    },
    {
     "data": {
      "text/plain": [
       "<keras.callbacks.History at 0x2428dd52518>"
      ]
     },
     "execution_count": 83,
     "metadata": {},
     "output_type": "execute_result"
    }
   ],
   "source": [
    "from keras.models import Sequential\n",
    "model = Sequential()\n",
    "\n",
    "from keras.layers import Dense\n",
    "neurons = 10\n",
    "layers = 10\n",
    "model.add(Dense(units=neurons, activation='tanh', input_shape=(1,)))\n",
    "for i in range(layers-1):\n",
    "    model.add(Dense(units=neurons, activation='tanh', input_shape=(10,)))\n",
    "model.add(Dense(units=1))\n",
    "model.compile(loss='mean_squared_error',\n",
    "              optimizer='sgd',\n",
    "              metrics=['mean_squared_error', 'mean_absolute_error'])\n",
    "\n",
    "\n",
    "import numpy as np\n",
    "x_train = np.atleast_2d(np.linspace(0, 2*np.pi, 1000)).T\n",
    "y_train = np.atleast_2d(np.exp(-x_train**2))\n",
    "y_train = np.atleast_2d(np.sin(x_train))\n",
    "\n",
    "\n",
    "model.fit(x_train, y_train, epochs=10, batch_size=1)"
   ]
  },
  {
   "cell_type": "code",
   "execution_count": 82,
   "metadata": {},
   "outputs": [
    {
     "data": {
      "image/png": "[encoded data removed]",
      "text/plain": [
       "<Figure size 432x288 with 1 Axes>"
      ]
     },
     "metadata": {
      "needs_background": "light"
     },
     "output_type": "display_data"
    }
   ],
   "source": [
    "import matplotlib.pyplot as plt\n",
    "\n",
    "\n",
    "y_pred = model.predict(x_train)\n",
    "plt.plot(x_train, y_train)\n",
    "plt.plot(x_train, y_pred)\n",
    "plt.show()"
   ]
  },
  {
   "cell_type": "code",
   "execution_count": 17,
   "metadata": {},
   "outputs": [
    {
     "data": {
      "text/plain": [
       "array([[ 0.00000000e+00,  6.34239197e-02,  1.26592454e-01,\n",
       "         1.89251244e-01,  2.51147987e-01,  3.12033446e-01,\n",
       "         3.71662456e-01,  4.29794912e-01,  4.86196736e-01,\n",
       "         5.40640817e-01,  5.92907929e-01,  6.42787610e-01,\n",
       "         6.90079011e-01,  7.34591709e-01,  7.76146464e-01,\n",
       "         8.14575952e-01,  8.49725430e-01,  8.81453363e-01,\n",
       "         9.09631995e-01,  9.34147860e-01,  9.54902241e-01,\n",
       "         9.71811568e-01,  9.84807753e-01,  9.93838464e-01,\n",
       "         9.98867339e-01,  9.99874128e-01,  9.96854776e-01,\n",
       "         9.89821442e-01,  9.78802446e-01,  9.63842159e-01,\n",
       "         9.45000819e-01,  9.22354294e-01,  8.95993774e-01,\n",
       "         8.66025404e-01,  8.32569855e-01,  7.95761841e-01,\n",
       "         7.55749574e-01,  7.12694171e-01,  6.66769001e-01,\n",
       "         6.18158986e-01,  5.67059864e-01,  5.13677392e-01,\n",
       "         4.58226522e-01,  4.00930535e-01,  3.42020143e-01,\n",
       "         2.81732557e-01,  2.20310533e-01,  1.58001396e-01,\n",
       "         9.50560433e-02,  3.17279335e-02, -3.17279335e-02,\n",
       "        -9.50560433e-02, -1.58001396e-01, -2.20310533e-01,\n",
       "        -2.81732557e-01, -3.42020143e-01, -4.00930535e-01,\n",
       "        -4.58226522e-01, -5.13677392e-01, -5.67059864e-01,\n",
       "        -6.18158986e-01, -6.66769001e-01, -7.12694171e-01,\n",
       "        -7.55749574e-01, -7.95761841e-01, -8.32569855e-01,\n",
       "        -8.66025404e-01, -8.95993774e-01, -9.22354294e-01,\n",
       "        -9.45000819e-01, -9.63842159e-01, -9.78802446e-01,\n",
       "        -9.89821442e-01, -9.96854776e-01, -9.99874128e-01,\n",
       "        -9.98867339e-01, -9.93838464e-01, -9.84807753e-01,\n",
       "        -9.71811568e-01, -9.54902241e-01, -9.34147860e-01,\n",
       "        -9.09631995e-01, -8.81453363e-01, -8.49725430e-01,\n",
       "        -8.14575952e-01, -7.76146464e-01, -7.34591709e-01,\n",
       "        -6.90079011e-01, -6.42787610e-01, -5.92907929e-01,\n",
       "        -5.40640817e-01, -4.86196736e-01, -4.29794912e-01,\n",
       "        -3.71662456e-01, -3.12033446e-01, -2.51147987e-01,\n",
       "        -1.89251244e-01, -1.26592454e-01, -6.34239197e-02,\n",
       "        -2.44929360e-16]])"
      ]
     },
     "execution_count": 17,
     "metadata": {},
     "output_type": "execute_result"
    }
   ],
   "source": [
    "y_train"
   ]
  },
  {
   "cell_type": "code",
   "execution_count": null,
   "metadata": {},
   "outputs": [],
   "source": []
  }
 ],
 "metadata": {
  "kernelspec": {
   "display_name": "Python 3",
   "language": "python",
   "name": "python3"
  },
  "language_info": {
   "codemirror_mode": {
    "name": "ipython",
    "version": 3
   },
   "file_extension": ".py",
   "mimetype": "text/x-python",
   "name": "python",
   "nbconvert_exporter": "python",
   "pygments_lexer": "ipython3",
   "version": "3.7.1"
  }
 },
 "nbformat": 4,
 "nbformat_minor": 2
}
