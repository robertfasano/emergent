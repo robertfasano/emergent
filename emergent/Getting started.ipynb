{
 "cells": [
  {
   "cell_type": "markdown",
   "metadata": {},
   "source": [
    "# Installing EMERGENT"
   ]
  },
  {
   "cell_type": "markdown",
   "metadata": {},
   "source": [
    "In the following tutorial, we will install EMERGENT in a new virtual environment. This has the advantage of building with a clean slate, only installing the packages we need and avoiding any dependency conflicts. To follow this tutorial, you should first make sure you have the latest distribution of Anaconda, which you can download from [https://anaconda.org/](https://anaconda.org/).\n",
    "\n",
    "To start, let's create and activate a new virtual environment called \"emergent\":"
   ]
  },
  {
   "cell_type": "code",
   "execution_count": 3,
   "metadata": {},
   "outputs": [
    {
     "name": "stdout",
     "output_type": "stream",
     "text": [
      "Solving environment: done\n",
      "\n",
      "\n",
      "==> WARNING: A newer version of conda exists. <==\n",
      "  current version: 4.5.11\n",
      "  latest version: 4.6.7\n",
      "\n",
      "Please update conda by running\n",
      "\n",
      "    $ conda update -n base -c defaults conda\n",
      "\n",
      "\n",
      "\n",
      "## Package Plan ##\n",
      "\n",
      "  environment location: /anaconda3/envs/emergent\n",
      "\n",
      "  added / updated specs: \n",
      "    - python=3.7\n",
      "\n",
      "\n",
      "The following packages will be downloaded:\n",
      "\n",
      "    package                    |            build\n",
      "    ---------------------------|-----------------\n",
      "    wheel-0.33.1               |           py37_0          39 KB\n",
      "    sqlite-3.26.0              |       ha441bb4_0         2.3 MB\n",
      "    libedit-3.1.20181209       |       hb402a30_0         159 KB\n",
      "    pip-19.0.3                 |           py37_0         1.8 MB\n",
      "    openssl-1.1.1b             |       h1de35cc_0         3.4 MB\n",
      "    setuptools-40.8.0          |           py37_0         643 KB\n",
      "    zlib-1.2.11                |       h1de35cc_3         105 KB\n",
      "    python-3.7.2               |       haf84260_0        21.6 MB\n",
      "    certifi-2018.11.29         |           py37_0         145 KB\n",
      "    ncurses-6.1                |       h0a44026_1         887 KB\n",
      "    libcxx-4.0.1               |       hcfea43d_1         1.2 MB\n",
      "    libcxxabi-4.0.1            |       hcfea43d_1         458 KB\n",
      "    ca-certificates-2019.1.23  |                0         126 KB\n",
      "    ------------------------------------------------------------\n",
      "                                           Total:        32.9 MB\n",
      "\n",
      "The following NEW packages will be INSTALLED:\n",
      "\n",
      "    ca-certificates: 2019.1.23-0            \n",
      "    certifi:         2018.11.29-py37_0      \n",
      "    libcxx:          4.0.1-hcfea43d_1       \n",
      "    libcxxabi:       4.0.1-hcfea43d_1       \n",
      "    libedit:         3.1.20181209-hb402a30_0\n",
      "    libffi:          3.2.1-h475c297_4       \n",
      "    ncurses:         6.1-h0a44026_1         \n",
      "    openssl:         1.1.1b-h1de35cc_0      \n",
      "    pip:             19.0.3-py37_0          \n",
      "    python:          3.7.2-haf84260_0       \n",
      "    readline:        7.0-h1de35cc_5         \n",
      "    setuptools:      40.8.0-py37_0          \n",
      "    sqlite:          3.26.0-ha441bb4_0      \n",
      "    tk:              8.6.8-ha441bb4_0       \n",
      "    wheel:           0.33.1-py37_0          \n",
      "    xz:              5.2.4-h1de35cc_4       \n",
      "    zlib:            1.2.11-h1de35cc_3      \n",
      "\n",
      "\n",
      "Downloading and Extracting Packages\n",
      "wheel-0.33.1         | 39 KB     | ##################################### | 100% \n",
      "sqlite-3.26.0        | 2.3 MB    | ##################################### | 100% \n",
      "libedit-3.1.20181209 | 159 KB    | ##################################### | 100% \n",
      "pip-19.0.3           | 1.8 MB    | ##################################### | 100% \n",
      "openssl-1.1.1b       | 3.4 MB    | ##################################### | 100% \n",
      "setuptools-40.8.0    | 643 KB    | ##################################### | 100% \n",
      "zlib-1.2.11          | 105 KB    | ##################################### | 100% \n",
      "python-3.7.2         | 21.6 MB   | ##################################### | 100% \n",
      "certifi-2018.11.29   | 145 KB    | ##################################### | 100% \n",
      "ncurses-6.1          | 887 KB    | ##################################### | 100% \n",
      "libcxx-4.0.1         | 1.2 MB    | ##################################### | 100% \n",
      "libcxxabi-4.0.1      | 458 KB    | ##################################### | 100% \n",
      "ca-certificates-2019 | 126 KB    | ##################################### | 100% \n",
      "Preparing transaction: done\n",
      "Verifying transaction: done\n",
      "Executing transaction: done\n",
      "#\n",
      "# To activate this environment, use\n",
      "#\n",
      "#     $ conda activate emergent\n",
      "#\n",
      "# To deactivate an active environment, use\n",
      "#\n",
      "#     $ conda deactivate\n",
      "\n",
      "\n",
      "Note: you may need to restart the kernel to use updated packages.\n",
      "\n",
      "CommandNotFoundError: Your shell has not been properly configured to use 'conda activate'.\n",
      "If your shell is Bash or a Bourne variant, enable conda for the current user with\n",
      "\n",
      "    $ echo \". /anaconda3/etc/profile.d/conda.sh\" >> ~/.bash_profile\n",
      "\n",
      "or, for all users, enable conda with\n",
      "\n",
      "    $ sudo ln -s /anaconda3/etc/profile.d/conda.sh /etc/profile.d/conda.sh\n",
      "\n",
      "The options above will permanently enable the 'conda' command, but they do NOT\n",
      "put conda's base (root) environment on PATH.  To do so, run\n",
      "\n",
      "    $ conda activate\n",
      "\n",
      "in your terminal, or to put the base environment on PATH permanently, run\n",
      "\n",
      "    $ echo \"conda activate\" >> ~/.bash_profile\n",
      "\n",
      "Previous to conda 4.4, the recommended way to activate conda was to modify PATH in\n",
      "your ~/.bash_profile file.  You should manually remove the line that looks like\n",
      "\n",
      "    export PATH=\"/anaconda3/bin:$PATH\"\n",
      "\n",
      "^^^ The above line should NO LONGER be in your ~/.bash_profile file! ^^^\n",
      "\n",
      "\n",
      "\n",
      "Note: you may need to restart the kernel to use updated packages.\n"
     ]
    }
   ],
   "source": [
    "%conda create -n emergent python=3.7 --yes"
   ]
  },
  {
   "cell_type": "markdown",
   "metadata": {},
   "source": [
    "After creating the virtual environment, you should close Jupyter, then run \"conda activate emergent\" in Anaconda Prompt to switch environments. Next, relaunch Jupyter within this environment and start from here.\n",
    "\n",
    "Now it's time to install EMERGENT itself. Let's download the latest version from the GitLab repository:"
   ]
  },
  {
   "cell_type": "code",
   "execution_count": 5,
   "metadata": {},
   "outputs": [
    {
     "name": "stdout",
     "output_type": "stream",
     "text": [
      "/Users/robbiefasano\n"
     ]
    },
    {
     "data": {
      "text/plain": [
       "0"
      ]
     },
     "execution_count": 5,
     "metadata": {},
     "output_type": "execute_result"
    }
   ],
   "source": [
    "%cd '~'\n",
    "import os\n",
    "os.system('git clone https://gitlab.com/emergentlab/emergent.git')"
   ]
  },
  {
   "cell_type": "markdown",
   "metadata": {},
   "source": [
    "Now let's build EMERGENT from source:"
   ]
  },
  {
   "cell_type": "code",
   "execution_count": 8,
   "metadata": {},
   "outputs": [
    {
     "name": "stdout",
     "output_type": "stream",
     "text": [
      "/Users/robbiefasano/emergent\n",
      "running develop\n"
     ]
    },
    {
     "name": "stderr",
     "output_type": "stream",
     "text": [
      "/anaconda3/lib/python3.7/site-packages/setuptools/dist.py:398: UserWarning: Normalizing '0.1dev' to '0.1.dev0'\n",
      "  normalized_version,\n"
     ]
    },
    {
     "name": "stdout",
     "output_type": "stream",
     "text": [
      "running egg_info\n",
      "creating EMERGENT.egg-info\n",
      "writing EMERGENT.egg-info/PKG-INFO\n",
      "writing dependency_links to EMERGENT.egg-info/dependency_links.txt\n",
      "writing requirements to EMERGENT.egg-info/requires.txt\n",
      "writing top-level names to EMERGENT.egg-info/top_level.txt\n",
      "writing manifest file 'EMERGENT.egg-info/SOURCES.txt'\n",
      "reading manifest file 'EMERGENT.egg-info/SOURCES.txt'\n",
      "writing manifest file 'EMERGENT.egg-info/SOURCES.txt'\n",
      "running build_ext\n",
      "Creating /anaconda3/lib/python3.7/site-packages/EMERGENT.egg-link (link to .)\n",
      "Removing EMERGENT 0.1.dev0 from easy-install.pth file\n",
      "Adding EMERGENT 0.1.dev0 to easy-install.pth file\n",
      "\n",
      "Installed /Users/robbiefasano/emergent\n",
      "Processing dependencies for EMERGENT==0.1.dev0\n",
      "Searching for sklearn\n",
      "Reading https://pypi.org/simple/sklearn/\n",
      "Downloading https://files.pythonhosted.org/packages/1e/7a/dbb3be0ce9bd5c8b7e3d87328e79063f8b263b2b1bfa4774cb1147bfcd3f/sklearn-0.0.tar.gz#sha256=e23001573aa194b834122d2b9562459bf5ae494a2d59ca6b8aa22c85a44c0e31\n",
      "Best match: sklearn 0.0\n",
      "Processing sklearn-0.0.tar.gz\n",
      "Writing /var/folders/1l/7trvqv390s7gv_fy6pkp90qm0000gn/T/easy_install-v1w92gov/sklearn-0.0/setup.cfg\n",
      "Running sklearn-0.0/setup.py -q bdist_egg --dist-dir /var/folders/1l/7trvqv390s7gv_fy6pkp90qm0000gn/T/easy_install-v1w92gov/sklearn-0.0/egg-dist-tmp-0mi4wvhk\n"
     ]
    },
    {
     "name": "stderr",
     "output_type": "stream",
     "text": [
      "file wheel-platform-tag-is-broken-on-empty-wheels-see-issue-141.py (for module wheel-platform-tag-is-broken-on-empty-wheels-see-issue-141) not found\n",
      "file wheel-platform-tag-is-broken-on-empty-wheels-see-issue-141.py (for module wheel-platform-tag-is-broken-on-empty-wheels-see-issue-141) not found\n",
      "file wheel-platform-tag-is-broken-on-empty-wheels-see-issue-141.py (for module wheel-platform-tag-is-broken-on-empty-wheels-see-issue-141) not found\n",
      "warning: install_lib: 'build/lib' does not exist -- no Python modules to install\n",
      "\n"
     ]
    },
    {
     "name": "stdout",
     "output_type": "stream",
     "text": [
      "creating /anaconda3/lib/python3.7/site-packages/sklearn-0.0-py3.7.egg\n",
      "Extracting sklearn-0.0-py3.7.egg to /anaconda3/lib/python3.7/site-packages\n",
      "Adding sklearn 0.0 to easy-install.pth file\n",
      "\n",
      "Installed /anaconda3/lib/python3.7/site-packages/sklearn-0.0-py3.7.egg\n",
      "Searching for sip\n",
      "Reading https://pypi.org/simple/sip/\n",
      "Downloading https://files.pythonhosted.org/packages/76/e2/64bd7b249fb3fe3d225338d0acccaeb34da6a26f72f5eac969ad9c570ea0/sip-4.19.8-cp37-cp37m-macosx_10_6_intel.whl#sha256=97bb93ee0ef01ba90f57be2b606e08002660affd5bc380776dd8b0fcaa9e093a\n",
      "Best match: sip 4.19.8\n",
      "Processing sip-4.19.8-cp37-cp37m-macosx_10_6_intel.whl\n",
      "Installing sip-4.19.8-cp37-cp37m-macosx_10_6_intel.whl to /anaconda3/lib/python3.7/site-packages\n",
      "Adding sip 4.19.8 to easy-install.pth file\n",
      "\n",
      "Installed /anaconda3/lib/python3.7/site-packages/sip-4.19.8-py3.7-macosx-10.7-x86_64.egg\n",
      "Searching for pywin32\n",
      "Reading https://pypi.org/simple/pywin32/\n"
     ]
    },
    {
     "name": "stderr",
     "output_type": "stream",
     "text": [
      "No local packages or working download links found for pywin32\n"
     ]
    },
    {
     "ename": "SystemExit",
     "evalue": "error: Could not find suitable distribution for Requirement.parse('pywin32')",
     "output_type": "error",
     "traceback": [
      "An exception has occurred, use %tb to see the full traceback.\n",
      "\u001b[0;31mSystemExit\u001b[0m\u001b[0;31m:\u001b[0m error: Could not find suitable distribution for Requirement.parse('pywin32')\n"
     ]
    }
   ],
   "source": [
    "%cd ~/emergent\n",
    "%run setup.py develop"
   ]
  },
  {
   "cell_type": "markdown",
   "metadata": {},
   "source": [
    "Now let's check that the installation went smoothly by attempting to import EMERGENT:"
   ]
  },
  {
   "cell_type": "code",
   "execution_count": 10,
   "metadata": {},
   "outputs": [
    {
     "name": "stdout",
     "output_type": "stream",
     "text": [
      "<module 'emergent' from '/Users/robbiefasano/emergent/emergent/__init__.py'>\n"
     ]
    }
   ],
   "source": [
    "import emergent\n",
    "print(emergent)"
   ]
  },
  {
   "cell_type": "markdown",
   "metadata": {},
   "source": [
    "# Network construction"
   ]
  },
  {
   "cell_type": "markdown",
   "metadata": {},
   "source": [
    "In this tutorial, we will see how to create and run a new EMERGENT network. First, let's create an empty network called \"test\":"
   ]
  },
  {
   "cell_type": "code",
   "execution_count": 12,
   "metadata": {},
   "outputs": [
    {
     "name": "stdout",
     "output_type": "stream",
     "text": [
      "/Users/robbiefasano/emergent/emergent\n"
     ]
    },
    {
     "ename": "TypeError",
     "evalue": "'NoneType' object is not iterable",
     "output_type": "error",
     "traceback": [
      "\u001b[0;31m---------------------------------------------------------------------------\u001b[0m",
      "\u001b[0;31mTypeError\u001b[0m                                 Traceback (most recent call last)",
      "\u001b[0;32m~/emergent/emergent/utilities/new.py\u001b[0m in \u001b[0;36m<module>\u001b[0;34m\u001b[0m\n\u001b[1;32m     27\u001b[0m \u001b[0mlines\u001b[0m\u001b[0;34m.\u001b[0m\u001b[0mappend\u001b[0m\u001b[0;34m(\u001b[0m\u001b[0;34m'\\n\\t network.add_params(params)'\u001b[0m\u001b[0;34m)\u001b[0m\u001b[0;34m\u001b[0m\u001b[0m\n\u001b[1;32m     28\u001b[0m \u001b[0mlines\u001b[0m\u001b[0;34m.\u001b[0m\u001b[0mappend\u001b[0m\u001b[0;34m(\u001b[0m\u001b[0;34m'\\n'\u001b[0m\u001b[0;34m)\u001b[0m\u001b[0;34m\u001b[0m\u001b[0m\n\u001b[0;32m---> 29\u001b[0;31m \u001b[0;32mfor\u001b[0m \u001b[0mtemplate\u001b[0m \u001b[0;32min\u001b[0m \u001b[0mtemplates\u001b[0m\u001b[0;34m:\u001b[0m\u001b[0;34m\u001b[0m\u001b[0m\n\u001b[0m\u001b[1;32m     30\u001b[0m     \u001b[0mlines\u001b[0m\u001b[0;34m.\u001b[0m\u001b[0mappend\u001b[0m\u001b[0;34m(\u001b[0m\u001b[0;34m'\\n\\t from emergent.networks.%s import network as nw'\u001b[0m\u001b[0;34m%\u001b[0m\u001b[0mtemplate\u001b[0m\u001b[0;34m)\u001b[0m\u001b[0;34m\u001b[0m\u001b[0m\n\u001b[1;32m     31\u001b[0m \u001b[0;32mfor\u001b[0m \u001b[0mtemplate\u001b[0m \u001b[0;32min\u001b[0m \u001b[0mtemplates\u001b[0m\u001b[0;34m:\u001b[0m\u001b[0;34m\u001b[0m\u001b[0m\n",
      "\u001b[0;31mTypeError\u001b[0m: 'NoneType' object is not iterable"
     ]
    }
   ],
   "source": [
    "%cd ~/emergent/emergent\n",
    "%run utilities/new test"
   ]
  },
  {
   "cell_type": "markdown",
   "metadata": {},
   "source": [
    "You should see a new folder called test in the emergent/networks/ directory. Next, we're going to define the core building blocks of an EMERGENT network: a Thing, a Hub, and a network declaration file. Each of these is typically its own .py file; here, we'll define them within the notebook and save them to files as we go using IPython's magic %%writefile command.\n",
    "\n",
    "First, let's define a Thing: a driver\n",
    "for some device in our experiment. Although Things are just standard Python classes which can contain any methods\n",
    "you want, they should always have methods called \\_actuate() and \\_connect().\n",
    "\n",
    "<div class=\"alert alert-block alert-info\">\n",
    "<b>_actuate():</b> takes a state dictionary as an argument. Overload this method according to the manufacturer API to \n",
    "send the state specified by the dictionary to the device to do something useful in the lab.\n",
    "<br>\n",
    "<b>_connect():</b> establishes a connection with the device and returns 1 if successful. Overload this method with \n",
    "the specific connection protocol required by the device, e.g. sending a start packet over TCP/IP.\n",
    "</div>\n",
    "\n",
    "\n",
    "Things also have standardized arguments which should be passed into the super().__init__() method as well:\n",
    "<div class=\"alert alert-block alert-info\">\n",
    "<b>name:</b> the name which will be displayed in the experimental state dictionary and the GUI.\n",
    "<br>\n",
    "<b>params:</b> a dictionary containing any parameters you might want to pass to the device, like a serial number or \n",
    "analog input range.\n",
    "<br>\n",
    "<b>parent:</b> the Hub to which this Thing will be attached.\n",
    "</div>\n",
    "\n",
    "<div class=\"alert alert-block alert-warning\">\n",
    "If you plan on running EMERGENT across multiple computers, make sure to return early from the __init__ method\n",
    "if Thing.local is False; this prevents nodes from being initialized on the wrong computer.\n",
    "</div>"
   ]
  },
  {
   "cell_type": "code",
   "execution_count": 3,
   "metadata": {},
   "outputs": [
    {
     "name": "stdout",
     "output_type": "stream",
     "text": [
      "Overwriting networks/test/things/test_thing.py\n"
     ]
    }
   ],
   "source": [
    "%%writefile networks/test/things/test_thing.py \n",
    "\n",
    "from emergent.modules import Thing\n",
    "\n",
    "class TestThing(Thing):\n",
    "    ''' Thing driver for the virtual network in the 'basic' example. '''\n",
    "    def __init__(self, name, params = {}, parent = None):\n",
    "        ''' Register with the network and create two Input nodes, 'X' and 'Y'. '''\n",
    "        super().__init__(name, parent, params = params)\n",
    "        if not self.local:\n",
    "            return\n",
    "\n",
    "        for input_name in ['X', 'Y']:\n",
    "            self.add_input(input_name)\n",
    "\n",
    "    def _actuate(self, state):\n",
    "        ''' Usually this method would change a physical state, but for our\n",
    "            virtual network we only print the argument (note: the virtual state\n",
    "            is updated within the public calling method Thing.actuate()).'''\n",
    "        print('Actuating to', state)\n",
    "        return\n",
    "\n",
    "    def _connect(self):\n",
    "        return 1"
   ]
  },
  {
   "cell_type": "markdown",
   "metadata": {},
   "source": [
    "Now we will construct a Hub: a virtual construct which commands multiple things and measures some attached signal. \n",
    "The __init__ method should take the following arguments and pass them into the super().__init__ method:\n",
    "<div class=\"alert alert-block alert-info\">\n",
    "<b>name:</b> the name which will be displayed in the experimental state dictionary and the GUI.\n",
    "<br>\n",
    "<b>params:</b> a dictionary containing any parameters you might want to pass to the hub.\n",
    "<br>\n",
    "<b>network:</b> the local cluster of Hubs to associate this instance with.\n",
    "<br>\n",
    "<b>addr:</b> the IP address of the PC where you want this Hub to run. The Hub will only be constructed if the \n",
    "PC has a network card matching this address. This allows Hubs across multiple decentralized PCs to be declared in\n",
    "a single network.py file and selectively constructed depending on which PC is running the network.initialize() method.\n",
    "</div>\n",
    "\n",
    "In EMERGENT, experiments are written as methods of Hub classes with a standard call signature:\n",
    "<div class=\"alert alert-block alert-info\">\n",
    "<b>state:</b> a dictionary specifying the state for which we want to run the experiment. For example, if we want\n",
    "to measure a signal with a Thing named 'thing' set to coordinates X=1 and Y=2, we would pass {'thing': {'X':1, 'Y':2}}.\n",
    "<br>\n",
    "<b>params:</b> a dictionary containing any parameters you might want to pass to the experiment, e.g. an averaging\n",
    "time.\n",
    "</div>\n",
    "\n",
    "The method is tagged with the @experiment decorator, which tells EMERGENT to treat it differently than a normal method: all tagged methods appear in spin-boxes in the GUI."
   ]
  },
  {
   "cell_type": "code",
   "execution_count": 4,
   "metadata": {},
   "outputs": [
    {
     "name": "stdout",
     "output_type": "stream",
     "text": [
      "Overwriting networks/test/hubs/test_hub.py\n"
     ]
    }
   ],
   "source": [
    "%%writefile networks/test/hubs/test_hub.py \n",
    "\n",
    "from emergent.modules import Hub\n",
    "from emergent.utilities.decorators import experiment \n",
    "\n",
    "class TestHub(Hub):\n",
    "    def __init__(self, name, params = {}, addr=None, network=None):\n",
    "        super().__init__(name, addr=addr, network = network, params = params)\n",
    "\n",
    "    @experiment\n",
    "    def gaussian(self, state, params = {'sigma_x': 0.3, 'sigma_y': 0.8, 'x0': 0.3, 'y0': 0.6, 'noise':0, 'delay': 0.5}):\n",
    "        self.actuate(state)\n",
    "        x=self.state['MEMS']['X']\n",
    "        y=self.state['MEMS']['Y']\n",
    "        x0 = params['x0']\n",
    "        y0 = params['y0']\n",
    "        sigma_x = params['sigma_x']\n",
    "        sigma_y = params['sigma_y']\n",
    "        power =  np.exp(-(x-x0)**2/sigma_x**2)*np.exp(-(y-y0)**2/sigma_y**2) + np.random.normal(0, params['noise'])\n",
    "\n",
    "        return -power"
   ]
  },
  {
   "cell_type": "markdown",
   "metadata": {},
   "source": [
    "The last step is to declare our objects in a network.py file, which should contain only a method called initialize() which is structured as follows:"
   ]
  },
  {
   "cell_type": "code",
   "execution_count": 5,
   "metadata": {},
   "outputs": [
    {
     "name": "stdout",
     "output_type": "stream",
     "text": [
      "Overwriting networks/test/network.py\n"
     ]
    }
   ],
   "source": [
    "%%writefile networks/test/network.py\n",
    "\n",
    "from emergent.networks.test.hubs.test_hub import TestHub\n",
    "from emergent.networks.test.things.test_thing import TestThing\n",
    "\n",
    "def initialize(network, params = {}):\n",
    "    network.add_params(params)          # add the passed params to the network\n",
    "\n",
    "    hub = TestHub(name='hub', network=network, addr='127.0.0.1')\n",
    "    thing = TestThing('thing', params={}, parent=hub)\n",
    "    \n",
    "    network.add_hub(hub)"
   ]
  },
  {
   "cell_type": "markdown",
   "metadata": {},
   "source": [
    "Now let's run our network! First, execute the following cell to link the Qt event loop with IPython:"
   ]
  },
  {
   "cell_type": "code",
   "execution_count": 6,
   "metadata": {},
   "outputs": [],
   "source": [
    "%gui qt5"
   ]
  },
  {
   "cell_type": "markdown",
   "metadata": {},
   "source": [
    "Now, run the launch() method in main.py, specifying the initialize method we defined above:"
   ]
  },
  {
   "cell_type": "code",
   "execution_count": 9,
   "metadata": {},
   "outputs": [
    {
     "name": "stderr",
     "output_type": "stream",
     "text": [
      "WARNING:root:Could not find csv for input X; creating new settings.\n",
      "WARNING:root:Could not find csv for input Y; creating new settings.\n"
     ]
    },
    {
     "name": "stdout",
     "output_type": "stream",
     "text": [
      "{'X': 0, 'Y': 0}\n"
     ]
    }
   ],
   "source": [
    "%run main test --addr 127.0.0.1"
   ]
  },
  {
   "cell_type": "markdown",
   "metadata": {},
   "source": [
    "You should see the main GUI for EMERGENT start up. Take some time to familiarize yourself with the various parts, or follow the tutorials below."
   ]
  },
  {
   "cell_type": "markdown",
   "metadata": {},
   "source": [
    "# State representation and actuation"
   ]
  },
  {
   "cell_type": "markdown",
   "metadata": {},
   "source": [
    "The panel on the left side is called the Network Tree, and it displays all objects in your EMERGENT network. From this panel, you can check or update the state of any input. Notice that the X and Y inputs have initialized to 0, as there are no saved states on file yet for this new network. You can access the objects and state from the command-line using the global \"network\" variable, as in the following example:"
   ]
  },
  {
   "cell_type": "code",
   "execution_count": 11,
   "metadata": {},
   "outputs": [
    {
     "name": "stdout",
     "output_type": "stream",
     "text": [
      "State([('thing', {'X': 0, 'Y': 0})])\n"
     ]
    }
   ],
   "source": [
    "hub = network.hubs['hub']\n",
    "thing = hub.children['thing']\n",
    "X = thing.children['X']\n",
    "\n",
    "print(hub.state)"
   ]
  },
  {
   "cell_type": "markdown",
   "metadata": {},
   "source": [
    "To change a device state, you can simply double click on the corresponding input's \"Value\" entry in the Network panel, enter a new value, and press Return. This calls the hub.actuate(state) method, during which the hub distributes actuation commands to all affected devices. The devices themselves are updated through their \\_actuate method as defined above, which should be overloaded in each Thing subclass.\n",
    "\n",
    "Alternately, we can bypass the GUI and actuate from the command line:"
   ]
  },
  {
   "cell_type": "code",
   "execution_count": 12,
   "metadata": {},
   "outputs": [
    {
     "name": "stdout",
     "output_type": "stream",
     "text": [
      "{'X': 1, 'Y': 2}\n",
      "State([('thing', {'X': 1, 'Y': 2})])\n"
     ]
    }
   ],
   "source": [
    "new_state = {'thing': {'X': 1, 'Y': 2}}\n",
    "hub.actuate(new_state)\n",
    "print('New state:', hub.state)"
   ]
  }
 ],
 "metadata": {
  "kernelspec": {
   "display_name": "Python 3",
   "language": "python",
   "name": "python3"
  },
  "language_info": {
   "codemirror_mode": {
    "name": "ipython",
    "version": 3
   },
   "file_extension": ".py",
   "mimetype": "text/x-python",
   "name": "python",
   "nbconvert_exporter": "python",
   "pygments_lexer": "ipython3",
   "version": "3.7.0"
  }
 },
 "nbformat": 4,
 "nbformat_minor": 2
}
